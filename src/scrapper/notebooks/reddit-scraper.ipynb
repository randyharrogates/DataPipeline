{
 "cells": [
  {
   "cell_type": "code",
   "execution_count": 5,
   "metadata": {
    "_cell_guid": "b1076dfc-b9ad-4769-8c92-a6c4dae69d19",
    "_uuid": "8f2839f25d086af736a60e9eeb907d3b93b6e0e5"
   },
   "outputs": [],
   "source": [
    "# This Python 3 environment comes with many helpful analytics libraries installed\n",
    "# It is defined by the kaggle/python Docker image: https://github.com/kaggle/docker-python\n",
    "# For example, here's several helpful packages to load\n",
    "\n",
    "import numpy as np # linear algebra\n",
    "import pandas as pd # data processing, CSV file I/O (e.g. pd.read_csv)\n",
    "\n",
    "# Input data files are available in the read-only \"../input/\" directory\n",
    "# For example, running this (by clicking run or pressing Shift+Enter) will list all files under the input directory\n",
    "\n",
    "# import os\n",
    "# for dirname, _, filenames in os.walk('/kaggle/input'):\n",
    "#     for filename in filenames:\n",
    "#         print(os.path.join(dirname, filename))\n",
    "\n",
    "# You can write up to 5GB to the current directory (/kaggle/working/) that gets preserved as output when you create a version using \"Save & Run All\" \n",
    "# You can also write temporary files to /kaggle/temp/, but they won't be saved outside of the current session"
   ]
  },
  {
   "cell_type": "code",
   "execution_count": 1,
   "metadata": {
    "_cell_guid": "79c7e3d0-c299-4dcb-8224-4455121ee9b0",
    "_uuid": "d629ff2d2480ee46fbb7e2d37f6b5fab8052498a"
   },
   "outputs": [
    {
     "name": "stdout",
     "output_type": "stream",
     "text": [
      "Collecting praw\n",
      "  Downloading https://files.pythonhosted.org/packages/5c/39/17251486951815d4514e4a3f179d4f3e7af5f7b1ce8eaba5a3ea61bc91f2/praw-7.0.0-py3-none-any.whl (143kB)\n",
      "Collecting websocket-client>=0.54.0 (from praw)\n",
      "  Downloading https://files.pythonhosted.org/packages/4c/5f/f61b420143ed1c8dc69f9eaec5ff1ac36109d52c80de49d66e0c36c3dfdf/websocket_client-0.57.0-py2.py3-none-any.whl (200kB)\n",
      "Collecting update-checker>=0.16 (from praw)\n",
      "  Downloading https://files.pythonhosted.org/packages/d6/c3/aaf8a162df8e8f9d321237c7c0e63aff95b42d19f1758f96606e3cabb245/update_checker-0.17-py2.py3-none-any.whl\n",
      "Collecting prawcore<2.0,>=1.3.0 (from praw)\n",
      "  Downloading https://files.pythonhosted.org/packages/61/89/651078078f089c182164efd10d45d3b709b46e4e40b47e63759e76349dc1/prawcore-1.4.0-py3-none-any.whl\n",
      "Requirement already satisfied: six in c:\\users\\sunil\\appdata\\local\\programs\\python\\python36\\lib\\site-packages (from websocket-client>=0.54.0->praw) (1.14.0)\n",
      "Requirement already satisfied: requests>=2.3.0 in c:\\users\\sunil\\appdata\\local\\programs\\python\\python36\\lib\\site-packages (from update-checker>=0.16->praw) (2.23.0)\n",
      "Requirement already satisfied: urllib3!=1.25.0,!=1.25.1,<1.26,>=1.21.1 in c:\\users\\sunil\\appdata\\local\\programs\\python\\python36\\lib\\site-packages (from requests>=2.3.0->update-checker>=0.16->praw) (1.25.9)\n",
      "Requirement already satisfied: idna<3,>=2.5 in c:\\users\\sunil\\appdata\\local\\programs\\python\\python36\\lib\\site-packages (from requests>=2.3.0->update-checker>=0.16->praw) (2.9)\n",
      "Requirement already satisfied: certifi>=2017.4.17 in c:\\users\\sunil\\appdata\\local\\programs\\python\\python36\\lib\\site-packages (from requests>=2.3.0->update-checker>=0.16->praw) (2020.4.5.1)\n",
      "Requirement already satisfied: chardet<4,>=3.0.2 in c:\\users\\sunil\\appdata\\local\\programs\\python\\python36\\lib\\site-packages (from requests>=2.3.0->update-checker>=0.16->praw) (3.0.4)\n",
      "Installing collected packages: websocket-client, update-checker, prawcore, praw\n",
      "Successfully installed praw-7.0.0 prawcore-1.4.0 update-checker-0.17 websocket-client-0.57.0\n"
     ]
    },
    {
     "name": "stderr",
     "output_type": "stream",
     "text": [
      "You are using pip version 18.1, however version 20.2b1 is available.\n",
      "You should consider upgrading via the 'python -m pip install --upgrade pip' command.\n"
     ]
    }
   ],
   "source": [
    "!pip install praw"
   ]
  },
  {
   "cell_type": "code",
   "execution_count": 6,
   "metadata": {},
   "outputs": [],
   "source": [
    "import praw\n",
    "import pandas as pd\n",
    "import datetime as dt"
   ]
  },
  {
   "cell_type": "code",
   "execution_count": 7,
   "metadata": {},
   "outputs": [
    {
     "name": "stdout",
     "output_type": "stream",
     "text": [
      "JamieRan112\n"
     ]
    }
   ],
   "source": [
    "# Creating a reddit crawler object \n",
    "reddit = praw.Reddit(client_id='cuDitSOXcwUFJxABTQR93Q',\n",
    "                     client_secret='BN-dhMP04h9hAQB6ZXzfui4ku7faZQ',\n",
    "                     user_agent='jamiescrapes',\n",
    "                     username='JamieRan112',\n",
    "                     password='Harrogates@@112')\n",
    "\n",
    "print(reddit.user.me())"
   ]
  },
  {
   "cell_type": "code",
   "execution_count": 8,
   "metadata": {},
   "outputs": [
    {
     "name": "stdout",
     "output_type": "stream",
     "text": [
      "[Opinion] Thoughts on the past 5 years and well wshes for the future\n",
      "Saw the amount of support there was on the sexual assault post and wanted to share my own experience with racism.\n",
      "Dilemma about emigration: why some come back, why some stay?\n",
      "An ex-PAP supporter's reasons for defecting\n",
      "Men of r/sg: what are your insecurities?\n",
      "My reflections on my father\n",
      "Need some advice rn\n",
      "Observations by Singaporean(s) at Oxford\n",
      "Guys, I need serious help...\n",
      "Should I, as a student without much experience, design a logo for free?\n"
     ]
    },
    {
     "data": {
      "text/html": [
       "<div>\n",
       "<style scoped>\n",
       "    .dataframe tbody tr th:only-of-type {\n",
       "        vertical-align: middle;\n",
       "    }\n",
       "\n",
       "    .dataframe tbody tr th {\n",
       "        vertical-align: top;\n",
       "    }\n",
       "\n",
       "    .dataframe thead th {\n",
       "        text-align: right;\n",
       "    }\n",
       "</style>\n",
       "<table border=\"1\" class=\"dataframe\">\n",
       "  <thead>\n",
       "    <tr style=\"text-align: right;\">\n",
       "      <th></th>\n",
       "      <th>title</th>\n",
       "      <th>score</th>\n",
       "      <th>id</th>\n",
       "      <th>url</th>\n",
       "      <th>comms_num</th>\n",
       "      <th>created</th>\n",
       "      <th>body</th>\n",
       "      <th>timestamp</th>\n",
       "    </tr>\n",
       "  </thead>\n",
       "  <tbody>\n",
       "    <tr>\n",
       "      <th>0</th>\n",
       "      <td>[Opinion] Thoughts on the past 5 years and wel...</td>\n",
       "      <td>17</td>\n",
       "      <td>hmvqse</td>\n",
       "      <td>https://www.reddit.com/r/singapore/comments/hm...</td>\n",
       "      <td>10</td>\n",
       "      <td>1.594133e+09</td>\n",
       "      <td>The past 5 years have been a rollercoaster. \\n...</td>\n",
       "      <td>2020-07-07 22:39:26</td>\n",
       "    </tr>\n",
       "    <tr>\n",
       "      <th>1</th>\n",
       "      <td>Saw the amount of support there was on the sex...</td>\n",
       "      <td>1650</td>\n",
       "      <td>n8dr28</td>\n",
       "      <td>https://www.reddit.com/r/singapore/comments/n8...</td>\n",
       "      <td>389</td>\n",
       "      <td>1.620565e+09</td>\n",
       "      <td>Hello my Singaporean friends.\\n\\nTo preface, I...</td>\n",
       "      <td>2021-05-09 20:59:23</td>\n",
       "    </tr>\n",
       "    <tr>\n",
       "      <th>2</th>\n",
       "      <td>Dilemma about emigration: why some come back, ...</td>\n",
       "      <td>78</td>\n",
       "      <td>lc33em</td>\n",
       "      <td>https://www.reddit.com/r/singapore/comments/lc...</td>\n",
       "      <td>97</td>\n",
       "      <td>1.612399e+09</td>\n",
       "      <td>I saw a lot of posts about emigrating or not, ...</td>\n",
       "      <td>2021-02-04 08:43:34</td>\n",
       "    </tr>\n",
       "    <tr>\n",
       "      <th>3</th>\n",
       "      <td>An ex-PAP supporter's reasons for defecting</td>\n",
       "      <td>514</td>\n",
       "      <td>hlvl1k</td>\n",
       "      <td>https://www.reddit.com/r/singapore/comments/hl...</td>\n",
       "      <td>152</td>\n",
       "      <td>1.593988e+09</td>\n",
       "      <td>I used to think PAP was an obvious choice, pur...</td>\n",
       "      <td>2020-07-06 06:25:40</td>\n",
       "    </tr>\n",
       "    <tr>\n",
       "      <th>4</th>\n",
       "      <td>Men of r/sg: what are your insecurities?</td>\n",
       "      <td>118</td>\n",
       "      <td>chji7d</td>\n",
       "      <td>https://www.reddit.com/r/singapore/comments/ch...</td>\n",
       "      <td>252</td>\n",
       "      <td>1.564033e+09</td>\n",
       "      <td>I grew up with a ton of insecurities about bei...</td>\n",
       "      <td>2019-07-25 13:29:46</td>\n",
       "    </tr>\n",
       "    <tr>\n",
       "      <th>5</th>\n",
       "      <td>My reflections on my father</td>\n",
       "      <td>267</td>\n",
       "      <td>i7kaci</td>\n",
       "      <td>https://www.reddit.com/r/singapore/comments/i7...</td>\n",
       "      <td>58</td>\n",
       "      <td>1.597117e+09</td>\n",
       "      <td>warning: long post of reflections. :)\\n\\nMy da...</td>\n",
       "      <td>2020-08-11 11:31:21</td>\n",
       "    </tr>\n",
       "    <tr>\n",
       "      <th>6</th>\n",
       "      <td>Need some advice rn</td>\n",
       "      <td>0</td>\n",
       "      <td>i7ygmx</td>\n",
       "      <td>https://www.reddit.com/r/singapore/comments/i7...</td>\n",
       "      <td>10</td>\n",
       "      <td>1.597175e+09</td>\n",
       "      <td>Hi im currently 16 retained in sec 3 so i just...</td>\n",
       "      <td>2020-08-12 03:37:01</td>\n",
       "    </tr>\n",
       "    <tr>\n",
       "      <th>7</th>\n",
       "      <td>Observations by Singaporean(s) at Oxford</td>\n",
       "      <td>236</td>\n",
       "      <td>8aoby6</td>\n",
       "      <td>https://www.reddit.com/r/singapore/comments/8a...</td>\n",
       "      <td>34</td>\n",
       "      <td>1.523169e+09</td>\n",
       "      <td>#Oxfess16614\\n\\nThe Ultimate Encyclopaedia of ...</td>\n",
       "      <td>2018-04-08 14:38:17</td>\n",
       "    </tr>\n",
       "    <tr>\n",
       "      <th>8</th>\n",
       "      <td>Guys, I need serious help...</td>\n",
       "      <td>18</td>\n",
       "      <td>2rax2s</td>\n",
       "      <td>https://www.reddit.com/r/singapore/comments/2r...</td>\n",
       "      <td>32</td>\n",
       "      <td>1.420383e+09</td>\n",
       "      <td>Hey all,\\n\\nBit a about me. I'm 27, moved to S...</td>\n",
       "      <td>2015-01-04 22:55:18</td>\n",
       "    </tr>\n",
       "    <tr>\n",
       "      <th>9</th>\n",
       "      <td>Should I, as a student without much experience...</td>\n",
       "      <td>8</td>\n",
       "      <td>4g71pe</td>\n",
       "      <td>https://www.reddit.com/r/singapore/comments/4g...</td>\n",
       "      <td>26</td>\n",
       "      <td>1.461477e+09</td>\n",
       "      <td>Hi graphic designers of /r/singapore, I'm in a...</td>\n",
       "      <td>2016-04-24 13:48:01</td>\n",
       "    </tr>\n",
       "  </tbody>\n",
       "</table>\n",
       "</div>"
      ],
      "text/plain": [
       "                                               title  score      id  \\\n",
       "0  [Opinion] Thoughts on the past 5 years and wel...     17  hmvqse   \n",
       "1  Saw the amount of support there was on the sex...   1650  n8dr28   \n",
       "2  Dilemma about emigration: why some come back, ...     78  lc33em   \n",
       "3        An ex-PAP supporter's reasons for defecting    514  hlvl1k   \n",
       "4           Men of r/sg: what are your insecurities?    118  chji7d   \n",
       "5                        My reflections on my father    267  i7kaci   \n",
       "6                                Need some advice rn      0  i7ygmx   \n",
       "7           Observations by Singaporean(s) at Oxford    236  8aoby6   \n",
       "8                       Guys, I need serious help...     18  2rax2s   \n",
       "9  Should I, as a student without much experience...      8  4g71pe   \n",
       "\n",
       "                                                 url  comms_num       created  \\\n",
       "0  https://www.reddit.com/r/singapore/comments/hm...         10  1.594133e+09   \n",
       "1  https://www.reddit.com/r/singapore/comments/n8...        389  1.620565e+09   \n",
       "2  https://www.reddit.com/r/singapore/comments/lc...         97  1.612399e+09   \n",
       "3  https://www.reddit.com/r/singapore/comments/hl...        152  1.593988e+09   \n",
       "4  https://www.reddit.com/r/singapore/comments/ch...        252  1.564033e+09   \n",
       "5  https://www.reddit.com/r/singapore/comments/i7...         58  1.597117e+09   \n",
       "6  https://www.reddit.com/r/singapore/comments/i7...         10  1.597175e+09   \n",
       "7  https://www.reddit.com/r/singapore/comments/8a...         34  1.523169e+09   \n",
       "8  https://www.reddit.com/r/singapore/comments/2r...         32  1.420383e+09   \n",
       "9  https://www.reddit.com/r/singapore/comments/4g...         26  1.461477e+09   \n",
       "\n",
       "                                                body           timestamp  \n",
       "0  The past 5 years have been a rollercoaster. \\n... 2020-07-07 22:39:26  \n",
       "1  Hello my Singaporean friends.\\n\\nTo preface, I... 2021-05-09 20:59:23  \n",
       "2  I saw a lot of posts about emigrating or not, ... 2021-02-04 08:43:34  \n",
       "3  I used to think PAP was an obvious choice, pur... 2020-07-06 06:25:40  \n",
       "4  I grew up with a ton of insecurities about bei... 2019-07-25 13:29:46  \n",
       "5  warning: long post of reflections. :)\\n\\nMy da... 2020-08-11 11:31:21  \n",
       "6  Hi im currently 16 retained in sec 3 so i just... 2020-08-12 03:37:01  \n",
       "7  #Oxfess16614\\n\\nThe Ultimate Encyclopaedia of ... 2018-04-08 14:38:17  \n",
       "8  Hey all,\\n\\nBit a about me. I'm 27, moved to S... 2015-01-04 22:55:18  \n",
       "9  Hi graphic designers of /r/singapore, I'm in a... 2016-04-24 13:48:01  "
      ]
     },
     "execution_count": 8,
     "metadata": {},
     "output_type": "execute_result"
    }
   ],
   "source": [
    "# Creating and crawling a particular subreddit\n",
    "\n",
    "subreddit = reddit.subreddit('Singapore')\n",
    "for post in subreddit.search('job insecurity',limit=500):\n",
    "    print(post.title)\n",
    "topics_dict = {\"title\":[],\n",
    "               \"score\":[],\n",
    "               \"id\":[], \"url\":[],\n",
    "               \"comms_num\": [],\n",
    "               \"created\": [],\n",
    "               \"body\":[]}\n",
    "for submission in subreddit.search('job insecurity',limit=100):\n",
    "    topics_dict[\"title\"].append(submission.title)\n",
    "    topics_dict[\"score\"].append(submission.score)\n",
    "    topics_dict[\"id\"].append(submission.id)\n",
    "    topics_dict[\"url\"].append(submission.url)\n",
    "    topics_dict[\"comms_num\"].append(submission.num_comments)\n",
    "    topics_dict[\"created\"].append(submission.created)\n",
    "    topics_dict[\"body\"].append(submission.selftext)\n",
    "    \n",
    "covid_data = pd.DataFrame(topics_dict)\n",
    "def get_date(created):\n",
    "    return dt.datetime.fromtimestamp(created)\n",
    "_timestamp = covid_data[\"created\"].apply(get_date)\n",
    "covid_data = covid_data.assign(timestamp = _timestamp)\n",
    "covid_data"
   ]
  },
  {
   "cell_type": "markdown",
   "metadata": {},
   "source": [
    "# Subreddit Object\n",
    "\n",
    "We will now create a custom scrape_subreddit object that will help us group all the functions and scrape a subreddit"
   ]
  },
  {
   "cell_type": "code",
   "execution_count": 9,
   "metadata": {},
   "outputs": [],
   "source": [
    "class scrape_subreddit:\n",
    "    def __init__(self,reddit,subred,tag,no_of_results):\n",
    "        self.name = subred\n",
    "        self.dataframe = None\n",
    "        self.subreddit = reddit.subreddit(subred)\n",
    "        self.tag = tag\n",
    "        self.no_of_results = no_of_results\n",
    "        self.topics_dict = {\"title\":[],\n",
    "               \"score\":[],\n",
    "               \"id\":[], \"url\":[],\n",
    "               \"comms_num\": [],\n",
    "               \"created\": [],\n",
    "               \"body\":[]}\n",
    "        \n",
    "    def scrape_data(self):\n",
    "        for submission in self.subreddit.search(self.tag,limit=self.no_of_results):\n",
    "            self.topics_dict[\"title\"].append(submission.title)\n",
    "            self.topics_dict[\"score\"].append(submission.score)\n",
    "            self.topics_dict[\"id\"].append(submission.id)\n",
    "            self.topics_dict[\"url\"].append(submission.url)\n",
    "            self.topics_dict[\"comms_num\"].append(submission.num_comments)\n",
    "            self.topics_dict[\"created\"].append(submission.created)\n",
    "            self.topics_dict[\"body\"].append(submission.selftext)\n",
    "        return self.topics_dict\n",
    "    \n",
    "    def get_dataframe(self):\n",
    "        self.dataframe = pd.DataFrame(self.scrape_data())\n",
    "        self.temp_timestamp = self.dataframe[\"created\"].apply(lambda x : dt.datetime.fromtimestamp(x))\n",
    "        self.dataframe = self.dataframe.assign(timestamp = self.temp_timestamp)\n",
    "        self.dataframe['year'] = self.dataframe['timestamp'].apply(lambda x : x.year)\n",
    "        self.dataframe['month'] = self.dataframe['timestamp'].apply(lambda x : x.month)\n",
    "        self.dataframe['day'] = self.dataframe['timestamp'].apply(lambda x : x.day)\n",
    "        self.dataframe['time'] = self.dataframe['timestamp'].apply(lambda x : x.time())\n",
    "        self.dataframe.drop(['timestamp'],axis=1,inplace=True)\n",
    "        self.dataframe = self.dataframe.drop_duplicates(subset='title',keep=\"first\")\n",
    "        return self.dataframe\n",
    "    \n",
    "    def get_lockdown_data(self):\n",
    "        self.dataframe = self.get_dataframe()\n",
    "        self.dataframe = self.dataframe.loc[(self.dataframe['year']==2020) & (self.dataframe['month']>2),:]\n",
    "        self.dataframe.reset_index(inplace=True)\n",
    "        return self.dataframe\n",
    "    \n",
    "    def get_pre_lockdown_data(self):\n",
    "        self.dataframe = self.get_dataframe()\n",
    "        self.dataframe = self.dataframe.loc[(self.dataframe['year']<=2020) & (self.dataframe['month']<3),:]\n",
    "        self.dataframe.reset_index(inplace=True)\n",
    "        return self.dataframe\n",
    "            \n",
    "                "
   ]
  },
  {
   "cell_type": "code",
   "execution_count": 10,
   "metadata": {},
   "outputs": [],
   "source": [
    "def scrape(reddit,subreddit,tag,limit):\n",
    "    reddit = reddit\n",
    "    scrape_object = scrape_subreddit(reddit,subreddit,tag,limit)\n",
    "    pre_lockdown_data = scrape_object.get_pre_lockdown_data()\n",
    "    lockdown_data = scrape_object.get_lockdown_data()\n",
    "    return pre_lockdown_data,lockdown_data"
   ]
  },
  {
   "cell_type": "markdown",
   "metadata": {},
   "source": [
    "# Scraping the Subreddits\n",
    "\n",
    "## 1. r/india\n",
    "\n",
    "### We'll scrape the subreddit r/india since we only need indian data\n",
    "\n",
    "### We'll also scrape popular subreddits like r/relationship_advice,r/relationships and r/relationships\n",
    "\n",
    "## 2. Other subreddits\n",
    "### Since some subreddits are specific to violence types, we'll scrape them using the keyword 'india'"
   ]
  },
  {
   "cell_type": "markdown",
   "metadata": {},
   "source": [
    "## r/india"
   ]
  },
  {
   "cell_type": "markdown",
   "metadata": {},
   "source": [
    "### 1. job insecurity"
   ]
  },
  {
   "cell_type": "code",
   "execution_count": 11,
   "metadata": {},
   "outputs": [
    {
     "name": "stdout",
     "output_type": "stream",
     "text": [
      "Number of data points in jobInsecurity_pre_data i.e, before lockdown : 1\n",
      "Number of data points in jobInsecurity_lockdown_data : 4\n"
     ]
    }
   ],
   "source": [
    "jobInsecurity_pre_data,jobInsecurity_lockdown_data = scrape(reddit,'Singapore','job insecurity',500)\n",
    "\n",
    "jobInsecurity_pre_data['keyword'] = ['job insecurity']*len(jobInsecurity_pre_data)\n",
    "jobInsecurity_lockdown_data['keyword'] = ['job insecurity']*len(jobInsecurity_lockdown_data)\n",
    "pre_data = jobInsecurity_pre_data\n",
    "lockdown_data = jobInsecurity_lockdown_data\n",
    "\n",
    "print(f\"Number of data points in jobInsecurity_pre_data i.e, before lockdown : {len(jobInsecurity_pre_data)}\")\n",
    "print(f\"Number of data points in jobInsecurity_lockdown_data : {len(jobInsecurity_lockdown_data)}\")"
   ]
  },
  {
   "cell_type": "code",
   "execution_count": 13,
   "metadata": {},
   "outputs": [
    {
     "name": "stdout",
     "output_type": "stream",
     "text": [
      "Number of data points in jobInsecurity_pre_data2 i.e, before lockdown : 0\n",
      "Number of data points in jobInsecurity_lockdown_data2 : 2\n"
     ]
    }
   ],
   "source": [
    "jobInsecurity_pre_data2,jobInsecurity_lockdown_data2 = scrape(reddit,'askSingapore','job insecurity',500)\n",
    "\n",
    "jobInsecurity_pre_data2['keyword'] = ['job insecurity']*len(jobInsecurity_pre_data2)\n",
    "jobInsecurity_lockdown_data2['keyword'] = ['job insecurity']*len(jobInsecurity_lockdown_data2)\n",
    "\n",
    "\n",
    "print(f\"Number of data points in jobInsecurity_pre_data2 i.e, before lockdown : {len(jobInsecurity_pre_data2)}\")\n",
    "print(f\"Number of data points in jobInsecurity_lockdown_data2 : {len(jobInsecurity_lockdown_data2)}\")\n",
    "\n",
    "\n",
    "# abuse_pre_data2,abuse_lockdown_data2 = scrape(reddit,'relationship_advice','india+abuse',500)\n",
    "\n",
    "# abuse_pre_data2['violence_type'] = ['abuse']*len(abuse_pre_data2)\n",
    "# abuse_lockdown_data2['violence_type'] = ['abuse']*len(abuse_lockdown_data2)\n",
    "\n",
    "\n",
    "# print(f\"Number of data points in abuse_pre_data2 i.e, before lockdown : {len(abuse_pre_data2)}\")\n",
    "# print(f\"Number of data points in abuse_lockdown_data2 : {len(abuse_lockdown_data2)}\")"
   ]
  },
  {
   "cell_type": "code",
   "execution_count": 14,
   "metadata": {},
   "outputs": [
    {
     "name": "stdout",
     "output_type": "stream",
     "text": [
      "Number of data points in jobInsecurity_pre_data3 i.e, before lockdown : 0\n",
      "Number of data points in jobInsecurity_lockdown_data3 : 0\n"
     ]
    }
   ],
   "source": [
    "jobInsecurity_pre_data3,jobInsecurity_lockdown_data3 = scrape(reddit,'SingaporeRaw','job insecurity',500)\n",
    "\n",
    "jobInsecurity_pre_data3['keyword'] = ['job insecurity']*len(jobInsecurity_pre_data3)\n",
    "jobInsecurity_lockdown_data3['keyword'] = ['job insecurity']*len(jobInsecurity_lockdown_data3)\n",
    "\n",
    "\n",
    "print(f\"Number of data points in jobInsecurity_pre_data3 i.e, before lockdown : {len(jobInsecurity_pre_data3)}\")\n",
    "print(f\"Number of data points in jobInsecurity_lockdown_data3 : {len(jobInsecurity_lockdown_data3)}\")\n",
    "\n",
    "# abuse_pre_data3,abuse_lockdown_data3 = scrape(reddit,'relationships','india abuse',500)\n",
    "\n",
    "# abuse_pre_data3['violence_type'] = ['abuse']*len(abuse_pre_data3)\n",
    "# abuse_lockdown_data3['violence_type'] = ['abuse']*len(abuse_lockdown_data3)\n",
    "\n",
    "\n",
    "# print(f\"Number of data points in abuse_pre_data3 i.e, before lockdown : {len(abuse_pre_data3)}\")\n",
    "# print(f\"Number of data points in abuse_lockdown_data3 : {len(abuse_lockdown_data3)}\")"
   ]
  },
  {
   "cell_type": "code",
   "execution_count": 15,
   "metadata": {},
   "outputs": [
    {
     "name": "stdout",
     "output_type": "stream",
     "text": [
      "Number of data points in jobInsecurity_pre_data4 i.e, before lockdown : 0\n",
      "Number of data points in jobInsecurity_lockdown_data4 : 0\n"
     ]
    }
   ],
   "source": [
    "jobInsecurity_pre_data4,jobInsecurity_lockdown_data4 = scrape(reddit,'mentalhealthsg','job insecurity',500)\n",
    "\n",
    "jobInsecurity_pre_data4['keyword'] = ['job insecurity']*len(jobInsecurity_pre_data4)\n",
    "jobInsecurity_lockdown_data4['keyword'] = ['job insecurity']*len(jobInsecurity_lockdown_data4)\n",
    "\n",
    "\n",
    "print(f\"Number of data points in jobInsecurity_pre_data4 i.e, before lockdown : {len(jobInsecurity_pre_data4)}\")\n",
    "print(f\"Number of data points in jobInsecurity_lockdown_data4 : {len(jobInsecurity_lockdown_data4)}\")\n",
    "\n",
    "\n",
    "\n",
    "# abuse_pre_data4,abuse_lockdown_data4 = scrape(reddit,'advice','india abuse',500)\n",
    "\n",
    "# abuse_pre_data4['violence_type'] = ['abuse']*len(abuse_pre_data4)\n",
    "# abuse_lockdown_data4['violence_type'] = ['abuse']*len(abuse_lockdown_data4)\n",
    "\n",
    "\n",
    "# print(f\"Number of data points in abuse_pre_data4 i.e, before lockdown : {len(abuse_pre_data4)}\")\n",
    "# print(f\"Number of data points in abuse_lockdown_data4 : {len(abuse_lockdown_data4)}\")"
   ]
  },
  {
   "cell_type": "code",
   "execution_count": 16,
   "metadata": {},
   "outputs": [
    {
     "ename": "RequestException",
     "evalue": "error with request HTTPSConnectionPool(host='www.reddit.com', port=443): Max retries exceeded with url: /api/v1/access_token (Caused by NewConnectionError('<urllib3.connection.HTTPSConnection object at 0x00000125212954F0>: Failed to establish a new connection: [Errno 11001] getaddrinfo failed'))",
     "output_type": "error",
     "traceback": [
      "\u001b[1;31m---------------------------------------------------------------------------\u001b[0m",
      "\u001b[1;31mgaierror\u001b[0m                                  Traceback (most recent call last)",
      "\u001b[1;32mC:\\ProgramData\\Anaconda3\\lib\\site-packages\\urllib3\\connection.py\u001b[0m in \u001b[0;36m_new_conn\u001b[1;34m(self)\u001b[0m\n\u001b[0;32m    158\u001b[0m         \u001b[1;32mtry\u001b[0m\u001b[1;33m:\u001b[0m\u001b[1;33m\u001b[0m\u001b[1;33m\u001b[0m\u001b[0m\n\u001b[1;32m--> 159\u001b[1;33m             conn = connection.create_connection(\n\u001b[0m\u001b[0;32m    160\u001b[0m                 \u001b[1;33m(\u001b[0m\u001b[0mself\u001b[0m\u001b[1;33m.\u001b[0m\u001b[0m_dns_host\u001b[0m\u001b[1;33m,\u001b[0m \u001b[0mself\u001b[0m\u001b[1;33m.\u001b[0m\u001b[0mport\u001b[0m\u001b[1;33m)\u001b[0m\u001b[1;33m,\u001b[0m \u001b[0mself\u001b[0m\u001b[1;33m.\u001b[0m\u001b[0mtimeout\u001b[0m\u001b[1;33m,\u001b[0m \u001b[1;33m**\u001b[0m\u001b[0mextra_kw\u001b[0m\u001b[1;33m\u001b[0m\u001b[1;33m\u001b[0m\u001b[0m\n",
      "\u001b[1;32mC:\\ProgramData\\Anaconda3\\lib\\site-packages\\urllib3\\util\\connection.py\u001b[0m in \u001b[0;36mcreate_connection\u001b[1;34m(address, timeout, source_address, socket_options)\u001b[0m\n\u001b[0;32m     60\u001b[0m \u001b[1;33m\u001b[0m\u001b[0m\n\u001b[1;32m---> 61\u001b[1;33m     \u001b[1;32mfor\u001b[0m \u001b[0mres\u001b[0m \u001b[1;32min\u001b[0m \u001b[0msocket\u001b[0m\u001b[1;33m.\u001b[0m\u001b[0mgetaddrinfo\u001b[0m\u001b[1;33m(\u001b[0m\u001b[0mhost\u001b[0m\u001b[1;33m,\u001b[0m \u001b[0mport\u001b[0m\u001b[1;33m,\u001b[0m \u001b[0mfamily\u001b[0m\u001b[1;33m,\u001b[0m \u001b[0msocket\u001b[0m\u001b[1;33m.\u001b[0m\u001b[0mSOCK_STREAM\u001b[0m\u001b[1;33m)\u001b[0m\u001b[1;33m:\u001b[0m\u001b[1;33m\u001b[0m\u001b[1;33m\u001b[0m\u001b[0m\n\u001b[0m\u001b[0;32m     62\u001b[0m         \u001b[0maf\u001b[0m\u001b[1;33m,\u001b[0m \u001b[0msocktype\u001b[0m\u001b[1;33m,\u001b[0m \u001b[0mproto\u001b[0m\u001b[1;33m,\u001b[0m \u001b[0mcanonname\u001b[0m\u001b[1;33m,\u001b[0m \u001b[0msa\u001b[0m \u001b[1;33m=\u001b[0m \u001b[0mres\u001b[0m\u001b[1;33m\u001b[0m\u001b[1;33m\u001b[0m\u001b[0m\n",
      "\u001b[1;32mC:\\ProgramData\\Anaconda3\\lib\\socket.py\u001b[0m in \u001b[0;36mgetaddrinfo\u001b[1;34m(host, port, family, type, proto, flags)\u001b[0m\n\u001b[0;32m    917\u001b[0m     \u001b[0maddrlist\u001b[0m \u001b[1;33m=\u001b[0m \u001b[1;33m[\u001b[0m\u001b[1;33m]\u001b[0m\u001b[1;33m\u001b[0m\u001b[1;33m\u001b[0m\u001b[0m\n\u001b[1;32m--> 918\u001b[1;33m     \u001b[1;32mfor\u001b[0m \u001b[0mres\u001b[0m \u001b[1;32min\u001b[0m \u001b[0m_socket\u001b[0m\u001b[1;33m.\u001b[0m\u001b[0mgetaddrinfo\u001b[0m\u001b[1;33m(\u001b[0m\u001b[0mhost\u001b[0m\u001b[1;33m,\u001b[0m \u001b[0mport\u001b[0m\u001b[1;33m,\u001b[0m \u001b[0mfamily\u001b[0m\u001b[1;33m,\u001b[0m \u001b[0mtype\u001b[0m\u001b[1;33m,\u001b[0m \u001b[0mproto\u001b[0m\u001b[1;33m,\u001b[0m \u001b[0mflags\u001b[0m\u001b[1;33m)\u001b[0m\u001b[1;33m:\u001b[0m\u001b[1;33m\u001b[0m\u001b[1;33m\u001b[0m\u001b[0m\n\u001b[0m\u001b[0;32m    919\u001b[0m         \u001b[0maf\u001b[0m\u001b[1;33m,\u001b[0m \u001b[0msocktype\u001b[0m\u001b[1;33m,\u001b[0m \u001b[0mproto\u001b[0m\u001b[1;33m,\u001b[0m \u001b[0mcanonname\u001b[0m\u001b[1;33m,\u001b[0m \u001b[0msa\u001b[0m \u001b[1;33m=\u001b[0m \u001b[0mres\u001b[0m\u001b[1;33m\u001b[0m\u001b[1;33m\u001b[0m\u001b[0m\n",
      "\u001b[1;31mgaierror\u001b[0m: [Errno 11001] getaddrinfo failed",
      "\nDuring handling of the above exception, another exception occurred:\n",
      "\u001b[1;31mNewConnectionError\u001b[0m                        Traceback (most recent call last)",
      "\u001b[1;32mC:\\ProgramData\\Anaconda3\\lib\\site-packages\\urllib3\\connectionpool.py\u001b[0m in \u001b[0;36murlopen\u001b[1;34m(self, method, url, body, headers, retries, redirect, assert_same_host, timeout, pool_timeout, release_conn, chunked, body_pos, **response_kw)\u001b[0m\n\u001b[0;32m    669\u001b[0m             \u001b[1;31m# Make the request on the httplib connection object.\u001b[0m\u001b[1;33m\u001b[0m\u001b[1;33m\u001b[0m\u001b[1;33m\u001b[0m\u001b[0m\n\u001b[1;32m--> 670\u001b[1;33m             httplib_response = self._make_request(\n\u001b[0m\u001b[0;32m    671\u001b[0m                 \u001b[0mconn\u001b[0m\u001b[1;33m,\u001b[0m\u001b[1;33m\u001b[0m\u001b[1;33m\u001b[0m\u001b[0m\n",
      "\u001b[1;32mC:\\ProgramData\\Anaconda3\\lib\\site-packages\\urllib3\\connectionpool.py\u001b[0m in \u001b[0;36m_make_request\u001b[1;34m(self, conn, method, url, timeout, chunked, **httplib_request_kw)\u001b[0m\n\u001b[0;32m    380\u001b[0m         \u001b[1;32mtry\u001b[0m\u001b[1;33m:\u001b[0m\u001b[1;33m\u001b[0m\u001b[1;33m\u001b[0m\u001b[0m\n\u001b[1;32m--> 381\u001b[1;33m             \u001b[0mself\u001b[0m\u001b[1;33m.\u001b[0m\u001b[0m_validate_conn\u001b[0m\u001b[1;33m(\u001b[0m\u001b[0mconn\u001b[0m\u001b[1;33m)\u001b[0m\u001b[1;33m\u001b[0m\u001b[1;33m\u001b[0m\u001b[0m\n\u001b[0m\u001b[0;32m    382\u001b[0m         \u001b[1;32mexcept\u001b[0m \u001b[1;33m(\u001b[0m\u001b[0mSocketTimeout\u001b[0m\u001b[1;33m,\u001b[0m \u001b[0mBaseSSLError\u001b[0m\u001b[1;33m)\u001b[0m \u001b[1;32mas\u001b[0m \u001b[0me\u001b[0m\u001b[1;33m:\u001b[0m\u001b[1;33m\u001b[0m\u001b[1;33m\u001b[0m\u001b[0m\n",
      "\u001b[1;32mC:\\ProgramData\\Anaconda3\\lib\\site-packages\\urllib3\\connectionpool.py\u001b[0m in \u001b[0;36m_validate_conn\u001b[1;34m(self, conn)\u001b[0m\n\u001b[0;32m    977\u001b[0m         \u001b[1;32mif\u001b[0m \u001b[1;32mnot\u001b[0m \u001b[0mgetattr\u001b[0m\u001b[1;33m(\u001b[0m\u001b[0mconn\u001b[0m\u001b[1;33m,\u001b[0m \u001b[1;34m\"sock\"\u001b[0m\u001b[1;33m,\u001b[0m \u001b[1;32mNone\u001b[0m\u001b[1;33m)\u001b[0m\u001b[1;33m:\u001b[0m  \u001b[1;31m# AppEngine might not have  `.sock`\u001b[0m\u001b[1;33m\u001b[0m\u001b[1;33m\u001b[0m\u001b[0m\n\u001b[1;32m--> 978\u001b[1;33m             \u001b[0mconn\u001b[0m\u001b[1;33m.\u001b[0m\u001b[0mconnect\u001b[0m\u001b[1;33m(\u001b[0m\u001b[1;33m)\u001b[0m\u001b[1;33m\u001b[0m\u001b[1;33m\u001b[0m\u001b[0m\n\u001b[0m\u001b[0;32m    979\u001b[0m \u001b[1;33m\u001b[0m\u001b[0m\n",
      "\u001b[1;32mC:\\ProgramData\\Anaconda3\\lib\\site-packages\\urllib3\\connection.py\u001b[0m in \u001b[0;36mconnect\u001b[1;34m(self)\u001b[0m\n\u001b[0;32m    308\u001b[0m         \u001b[1;31m# Add certificate verification\u001b[0m\u001b[1;33m\u001b[0m\u001b[1;33m\u001b[0m\u001b[1;33m\u001b[0m\u001b[0m\n\u001b[1;32m--> 309\u001b[1;33m         \u001b[0mconn\u001b[0m \u001b[1;33m=\u001b[0m \u001b[0mself\u001b[0m\u001b[1;33m.\u001b[0m\u001b[0m_new_conn\u001b[0m\u001b[1;33m(\u001b[0m\u001b[1;33m)\u001b[0m\u001b[1;33m\u001b[0m\u001b[1;33m\u001b[0m\u001b[0m\n\u001b[0m\u001b[0;32m    310\u001b[0m         \u001b[0mhostname\u001b[0m \u001b[1;33m=\u001b[0m \u001b[0mself\u001b[0m\u001b[1;33m.\u001b[0m\u001b[0mhost\u001b[0m\u001b[1;33m\u001b[0m\u001b[1;33m\u001b[0m\u001b[0m\n",
      "\u001b[1;32mC:\\ProgramData\\Anaconda3\\lib\\site-packages\\urllib3\\connection.py\u001b[0m in \u001b[0;36m_new_conn\u001b[1;34m(self)\u001b[0m\n\u001b[0;32m    170\u001b[0m         \u001b[1;32mexcept\u001b[0m \u001b[0mSocketError\u001b[0m \u001b[1;32mas\u001b[0m \u001b[0me\u001b[0m\u001b[1;33m:\u001b[0m\u001b[1;33m\u001b[0m\u001b[1;33m\u001b[0m\u001b[0m\n\u001b[1;32m--> 171\u001b[1;33m             raise NewConnectionError(\n\u001b[0m\u001b[0;32m    172\u001b[0m                 \u001b[0mself\u001b[0m\u001b[1;33m,\u001b[0m \u001b[1;34m\"Failed to establish a new connection: %s\"\u001b[0m \u001b[1;33m%\u001b[0m \u001b[0me\u001b[0m\u001b[1;33m\u001b[0m\u001b[1;33m\u001b[0m\u001b[0m\n",
      "\u001b[1;31mNewConnectionError\u001b[0m: <urllib3.connection.HTTPSConnection object at 0x00000125212954F0>: Failed to establish a new connection: [Errno 11001] getaddrinfo failed",
      "\nDuring handling of the above exception, another exception occurred:\n",
      "\u001b[1;31mMaxRetryError\u001b[0m                             Traceback (most recent call last)",
      "\u001b[1;32mC:\\ProgramData\\Anaconda3\\lib\\site-packages\\requests\\adapters.py\u001b[0m in \u001b[0;36msend\u001b[1;34m(self, request, stream, timeout, verify, cert, proxies)\u001b[0m\n\u001b[0;32m    438\u001b[0m             \u001b[1;32mif\u001b[0m \u001b[1;32mnot\u001b[0m \u001b[0mchunked\u001b[0m\u001b[1;33m:\u001b[0m\u001b[1;33m\u001b[0m\u001b[1;33m\u001b[0m\u001b[0m\n\u001b[1;32m--> 439\u001b[1;33m                 resp = conn.urlopen(\n\u001b[0m\u001b[0;32m    440\u001b[0m                     \u001b[0mmethod\u001b[0m\u001b[1;33m=\u001b[0m\u001b[0mrequest\u001b[0m\u001b[1;33m.\u001b[0m\u001b[0mmethod\u001b[0m\u001b[1;33m,\u001b[0m\u001b[1;33m\u001b[0m\u001b[1;33m\u001b[0m\u001b[0m\n",
      "\u001b[1;32mC:\\ProgramData\\Anaconda3\\lib\\site-packages\\urllib3\\connectionpool.py\u001b[0m in \u001b[0;36murlopen\u001b[1;34m(self, method, url, body, headers, retries, redirect, assert_same_host, timeout, pool_timeout, release_conn, chunked, body_pos, **response_kw)\u001b[0m\n\u001b[0;32m    725\u001b[0m \u001b[1;33m\u001b[0m\u001b[0m\n\u001b[1;32m--> 726\u001b[1;33m             retries = retries.increment(\n\u001b[0m\u001b[0;32m    727\u001b[0m                 \u001b[0mmethod\u001b[0m\u001b[1;33m,\u001b[0m \u001b[0murl\u001b[0m\u001b[1;33m,\u001b[0m \u001b[0merror\u001b[0m\u001b[1;33m=\u001b[0m\u001b[0me\u001b[0m\u001b[1;33m,\u001b[0m \u001b[0m_pool\u001b[0m\u001b[1;33m=\u001b[0m\u001b[0mself\u001b[0m\u001b[1;33m,\u001b[0m \u001b[0m_stacktrace\u001b[0m\u001b[1;33m=\u001b[0m\u001b[0msys\u001b[0m\u001b[1;33m.\u001b[0m\u001b[0mexc_info\u001b[0m\u001b[1;33m(\u001b[0m\u001b[1;33m)\u001b[0m\u001b[1;33m[\u001b[0m\u001b[1;36m2\u001b[0m\u001b[1;33m]\u001b[0m\u001b[1;33m\u001b[0m\u001b[1;33m\u001b[0m\u001b[0m\n",
      "\u001b[1;32mC:\\ProgramData\\Anaconda3\\lib\\site-packages\\urllib3\\util\\retry.py\u001b[0m in \u001b[0;36mincrement\u001b[1;34m(self, method, url, response, error, _pool, _stacktrace)\u001b[0m\n\u001b[0;32m    445\u001b[0m         \u001b[1;32mif\u001b[0m \u001b[0mnew_retry\u001b[0m\u001b[1;33m.\u001b[0m\u001b[0mis_exhausted\u001b[0m\u001b[1;33m(\u001b[0m\u001b[1;33m)\u001b[0m\u001b[1;33m:\u001b[0m\u001b[1;33m\u001b[0m\u001b[1;33m\u001b[0m\u001b[0m\n\u001b[1;32m--> 446\u001b[1;33m             \u001b[1;32mraise\u001b[0m \u001b[0mMaxRetryError\u001b[0m\u001b[1;33m(\u001b[0m\u001b[0m_pool\u001b[0m\u001b[1;33m,\u001b[0m \u001b[0murl\u001b[0m\u001b[1;33m,\u001b[0m \u001b[0merror\u001b[0m \u001b[1;32mor\u001b[0m \u001b[0mResponseError\u001b[0m\u001b[1;33m(\u001b[0m\u001b[0mcause\u001b[0m\u001b[1;33m)\u001b[0m\u001b[1;33m)\u001b[0m\u001b[1;33m\u001b[0m\u001b[1;33m\u001b[0m\u001b[0m\n\u001b[0m\u001b[0;32m    447\u001b[0m \u001b[1;33m\u001b[0m\u001b[0m\n",
      "\u001b[1;31mMaxRetryError\u001b[0m: HTTPSConnectionPool(host='www.reddit.com', port=443): Max retries exceeded with url: /api/v1/access_token (Caused by NewConnectionError('<urllib3.connection.HTTPSConnection object at 0x00000125212954F0>: Failed to establish a new connection: [Errno 11001] getaddrinfo failed'))",
      "\nDuring handling of the above exception, another exception occurred:\n",
      "\u001b[1;31mConnectionError\u001b[0m                           Traceback (most recent call last)",
      "\u001b[1;32mC:\\ProgramData\\Anaconda3\\lib\\site-packages\\prawcore\\requestor.py\u001b[0m in \u001b[0;36mrequest\u001b[1;34m(self, timeout, *args, **kwargs)\u001b[0m\n\u001b[0;32m     52\u001b[0m         \u001b[1;32mtry\u001b[0m\u001b[1;33m:\u001b[0m\u001b[1;33m\u001b[0m\u001b[1;33m\u001b[0m\u001b[0m\n\u001b[1;32m---> 53\u001b[1;33m             \u001b[1;32mreturn\u001b[0m \u001b[0mself\u001b[0m\u001b[1;33m.\u001b[0m\u001b[0m_http\u001b[0m\u001b[1;33m.\u001b[0m\u001b[0mrequest\u001b[0m\u001b[1;33m(\u001b[0m\u001b[1;33m*\u001b[0m\u001b[0margs\u001b[0m\u001b[1;33m,\u001b[0m \u001b[0mtimeout\u001b[0m\u001b[1;33m=\u001b[0m\u001b[0mtimeout\u001b[0m\u001b[1;33m,\u001b[0m \u001b[1;33m**\u001b[0m\u001b[0mkwargs\u001b[0m\u001b[1;33m)\u001b[0m\u001b[1;33m\u001b[0m\u001b[1;33m\u001b[0m\u001b[0m\n\u001b[0m\u001b[0;32m     54\u001b[0m         \u001b[1;32mexcept\u001b[0m \u001b[0mException\u001b[0m \u001b[1;32mas\u001b[0m \u001b[0mexc\u001b[0m\u001b[1;33m:\u001b[0m\u001b[1;33m\u001b[0m\u001b[1;33m\u001b[0m\u001b[0m\n",
      "\u001b[1;32mC:\\ProgramData\\Anaconda3\\lib\\site-packages\\requests\\sessions.py\u001b[0m in \u001b[0;36mrequest\u001b[1;34m(self, method, url, params, data, headers, cookies, files, auth, timeout, allow_redirects, proxies, hooks, stream, verify, cert, json)\u001b[0m\n\u001b[0;32m    529\u001b[0m         \u001b[0msend_kwargs\u001b[0m\u001b[1;33m.\u001b[0m\u001b[0mupdate\u001b[0m\u001b[1;33m(\u001b[0m\u001b[0msettings\u001b[0m\u001b[1;33m)\u001b[0m\u001b[1;33m\u001b[0m\u001b[1;33m\u001b[0m\u001b[0m\n\u001b[1;32m--> 530\u001b[1;33m         \u001b[0mresp\u001b[0m \u001b[1;33m=\u001b[0m \u001b[0mself\u001b[0m\u001b[1;33m.\u001b[0m\u001b[0msend\u001b[0m\u001b[1;33m(\u001b[0m\u001b[0mprep\u001b[0m\u001b[1;33m,\u001b[0m \u001b[1;33m**\u001b[0m\u001b[0msend_kwargs\u001b[0m\u001b[1;33m)\u001b[0m\u001b[1;33m\u001b[0m\u001b[1;33m\u001b[0m\u001b[0m\n\u001b[0m\u001b[0;32m    531\u001b[0m \u001b[1;33m\u001b[0m\u001b[0m\n",
      "\u001b[1;32mC:\\ProgramData\\Anaconda3\\lib\\site-packages\\requests\\sessions.py\u001b[0m in \u001b[0;36msend\u001b[1;34m(self, request, **kwargs)\u001b[0m\n\u001b[0;32m    642\u001b[0m         \u001b[1;31m# Send the request\u001b[0m\u001b[1;33m\u001b[0m\u001b[1;33m\u001b[0m\u001b[1;33m\u001b[0m\u001b[0m\n\u001b[1;32m--> 643\u001b[1;33m         \u001b[0mr\u001b[0m \u001b[1;33m=\u001b[0m \u001b[0madapter\u001b[0m\u001b[1;33m.\u001b[0m\u001b[0msend\u001b[0m\u001b[1;33m(\u001b[0m\u001b[0mrequest\u001b[0m\u001b[1;33m,\u001b[0m \u001b[1;33m**\u001b[0m\u001b[0mkwargs\u001b[0m\u001b[1;33m)\u001b[0m\u001b[1;33m\u001b[0m\u001b[1;33m\u001b[0m\u001b[0m\n\u001b[0m\u001b[0;32m    644\u001b[0m \u001b[1;33m\u001b[0m\u001b[0m\n",
      "\u001b[1;32mC:\\ProgramData\\Anaconda3\\lib\\site-packages\\requests\\adapters.py\u001b[0m in \u001b[0;36msend\u001b[1;34m(self, request, stream, timeout, verify, cert, proxies)\u001b[0m\n\u001b[0;32m    515\u001b[0m \u001b[1;33m\u001b[0m\u001b[0m\n\u001b[1;32m--> 516\u001b[1;33m             \u001b[1;32mraise\u001b[0m \u001b[0mConnectionError\u001b[0m\u001b[1;33m(\u001b[0m\u001b[0me\u001b[0m\u001b[1;33m,\u001b[0m \u001b[0mrequest\u001b[0m\u001b[1;33m=\u001b[0m\u001b[0mrequest\u001b[0m\u001b[1;33m)\u001b[0m\u001b[1;33m\u001b[0m\u001b[1;33m\u001b[0m\u001b[0m\n\u001b[0m\u001b[0;32m    517\u001b[0m \u001b[1;33m\u001b[0m\u001b[0m\n",
      "\u001b[1;31mConnectionError\u001b[0m: HTTPSConnectionPool(host='www.reddit.com', port=443): Max retries exceeded with url: /api/v1/access_token (Caused by NewConnectionError('<urllib3.connection.HTTPSConnection object at 0x00000125212954F0>: Failed to establish a new connection: [Errno 11001] getaddrinfo failed'))",
      "\nDuring handling of the above exception, another exception occurred:\n",
      "\u001b[1;31mRequestException\u001b[0m                          Traceback (most recent call last)",
      "\u001b[1;32m<ipython-input-16-810b68fd081d>\u001b[0m in \u001b[0;36m<module>\u001b[1;34m\u001b[0m\n\u001b[1;32m----> 1\u001b[1;33m \u001b[0mjobInsecurity_pre_data5\u001b[0m\u001b[1;33m,\u001b[0m\u001b[0mjobInsecurity_lockdown_data5\u001b[0m \u001b[1;33m=\u001b[0m \u001b[0mscrape\u001b[0m\u001b[1;33m(\u001b[0m\u001b[0mreddit\u001b[0m\u001b[1;33m,\u001b[0m\u001b[1;34m'singaporefi'\u001b[0m\u001b[1;33m,\u001b[0m\u001b[1;34m'job insecurity'\u001b[0m\u001b[1;33m,\u001b[0m\u001b[1;36m500\u001b[0m\u001b[1;33m)\u001b[0m\u001b[1;33m\u001b[0m\u001b[1;33m\u001b[0m\u001b[0m\n\u001b[0m\u001b[0;32m      2\u001b[0m \u001b[1;33m\u001b[0m\u001b[0m\n\u001b[0;32m      3\u001b[0m \u001b[0mjobInsecurity_pre_data5\u001b[0m\u001b[1;33m[\u001b[0m\u001b[1;34m'keyword'\u001b[0m\u001b[1;33m]\u001b[0m \u001b[1;33m=\u001b[0m \u001b[1;33m[\u001b[0m\u001b[1;34m'job insecurity'\u001b[0m\u001b[1;33m]\u001b[0m\u001b[1;33m*\u001b[0m\u001b[0mlen\u001b[0m\u001b[1;33m(\u001b[0m\u001b[0mjobInsecurity_pre_data5\u001b[0m\u001b[1;33m)\u001b[0m\u001b[1;33m\u001b[0m\u001b[1;33m\u001b[0m\u001b[0m\n\u001b[0;32m      4\u001b[0m \u001b[0mjobInsecurity_lockdown_data5\u001b[0m\u001b[1;33m[\u001b[0m\u001b[1;34m'keyword'\u001b[0m\u001b[1;33m]\u001b[0m \u001b[1;33m=\u001b[0m \u001b[1;33m[\u001b[0m\u001b[1;34m'job insecurity'\u001b[0m\u001b[1;33m]\u001b[0m\u001b[1;33m*\u001b[0m\u001b[0mlen\u001b[0m\u001b[1;33m(\u001b[0m\u001b[0mjobInsecurity_lockdown_data5\u001b[0m\u001b[1;33m)\u001b[0m\u001b[1;33m\u001b[0m\u001b[1;33m\u001b[0m\u001b[0m\n\u001b[0;32m      5\u001b[0m \u001b[1;33m\u001b[0m\u001b[0m\n",
      "\u001b[1;32m<ipython-input-10-a2a111537fa8>\u001b[0m in \u001b[0;36mscrape\u001b[1;34m(reddit, subreddit, tag, limit)\u001b[0m\n\u001b[0;32m      2\u001b[0m     \u001b[0mreddit\u001b[0m \u001b[1;33m=\u001b[0m \u001b[0mreddit\u001b[0m\u001b[1;33m\u001b[0m\u001b[1;33m\u001b[0m\u001b[0m\n\u001b[0;32m      3\u001b[0m     \u001b[0mscrape_object\u001b[0m \u001b[1;33m=\u001b[0m \u001b[0mscrape_subreddit\u001b[0m\u001b[1;33m(\u001b[0m\u001b[0mreddit\u001b[0m\u001b[1;33m,\u001b[0m\u001b[0msubreddit\u001b[0m\u001b[1;33m,\u001b[0m\u001b[0mtag\u001b[0m\u001b[1;33m,\u001b[0m\u001b[0mlimit\u001b[0m\u001b[1;33m)\u001b[0m\u001b[1;33m\u001b[0m\u001b[1;33m\u001b[0m\u001b[0m\n\u001b[1;32m----> 4\u001b[1;33m     \u001b[0mpre_lockdown_data\u001b[0m \u001b[1;33m=\u001b[0m \u001b[0mscrape_object\u001b[0m\u001b[1;33m.\u001b[0m\u001b[0mget_pre_lockdown_data\u001b[0m\u001b[1;33m(\u001b[0m\u001b[1;33m)\u001b[0m\u001b[1;33m\u001b[0m\u001b[1;33m\u001b[0m\u001b[0m\n\u001b[0m\u001b[0;32m      5\u001b[0m     \u001b[0mlockdown_data\u001b[0m \u001b[1;33m=\u001b[0m \u001b[0mscrape_object\u001b[0m\u001b[1;33m.\u001b[0m\u001b[0mget_lockdown_data\u001b[0m\u001b[1;33m(\u001b[0m\u001b[1;33m)\u001b[0m\u001b[1;33m\u001b[0m\u001b[1;33m\u001b[0m\u001b[0m\n\u001b[0;32m      6\u001b[0m     \u001b[1;32mreturn\u001b[0m \u001b[0mpre_lockdown_data\u001b[0m\u001b[1;33m,\u001b[0m\u001b[0mlockdown_data\u001b[0m\u001b[1;33m\u001b[0m\u001b[1;33m\u001b[0m\u001b[0m\n",
      "\u001b[1;32m<ipython-input-9-0e79e08a2e2e>\u001b[0m in \u001b[0;36mget_pre_lockdown_data\u001b[1;34m(self)\u001b[0m\n\u001b[0;32m     43\u001b[0m \u001b[1;33m\u001b[0m\u001b[0m\n\u001b[0;32m     44\u001b[0m     \u001b[1;32mdef\u001b[0m \u001b[0mget_pre_lockdown_data\u001b[0m\u001b[1;33m(\u001b[0m\u001b[0mself\u001b[0m\u001b[1;33m)\u001b[0m\u001b[1;33m:\u001b[0m\u001b[1;33m\u001b[0m\u001b[1;33m\u001b[0m\u001b[0m\n\u001b[1;32m---> 45\u001b[1;33m         \u001b[0mself\u001b[0m\u001b[1;33m.\u001b[0m\u001b[0mdataframe\u001b[0m \u001b[1;33m=\u001b[0m \u001b[0mself\u001b[0m\u001b[1;33m.\u001b[0m\u001b[0mget_dataframe\u001b[0m\u001b[1;33m(\u001b[0m\u001b[1;33m)\u001b[0m\u001b[1;33m\u001b[0m\u001b[1;33m\u001b[0m\u001b[0m\n\u001b[0m\u001b[0;32m     46\u001b[0m         \u001b[0mself\u001b[0m\u001b[1;33m.\u001b[0m\u001b[0mdataframe\u001b[0m \u001b[1;33m=\u001b[0m \u001b[0mself\u001b[0m\u001b[1;33m.\u001b[0m\u001b[0mdataframe\u001b[0m\u001b[1;33m.\u001b[0m\u001b[0mloc\u001b[0m\u001b[1;33m[\u001b[0m\u001b[1;33m(\u001b[0m\u001b[0mself\u001b[0m\u001b[1;33m.\u001b[0m\u001b[0mdataframe\u001b[0m\u001b[1;33m[\u001b[0m\u001b[1;34m'year'\u001b[0m\u001b[1;33m]\u001b[0m\u001b[1;33m<=\u001b[0m\u001b[1;36m2020\u001b[0m\u001b[1;33m)\u001b[0m \u001b[1;33m&\u001b[0m \u001b[1;33m(\u001b[0m\u001b[0mself\u001b[0m\u001b[1;33m.\u001b[0m\u001b[0mdataframe\u001b[0m\u001b[1;33m[\u001b[0m\u001b[1;34m'month'\u001b[0m\u001b[1;33m]\u001b[0m\u001b[1;33m<\u001b[0m\u001b[1;36m3\u001b[0m\u001b[1;33m)\u001b[0m\u001b[1;33m,\u001b[0m\u001b[1;33m:\u001b[0m\u001b[1;33m]\u001b[0m\u001b[1;33m\u001b[0m\u001b[1;33m\u001b[0m\u001b[0m\n\u001b[0;32m     47\u001b[0m         \u001b[0mself\u001b[0m\u001b[1;33m.\u001b[0m\u001b[0mdataframe\u001b[0m\u001b[1;33m.\u001b[0m\u001b[0mreset_index\u001b[0m\u001b[1;33m(\u001b[0m\u001b[0minplace\u001b[0m\u001b[1;33m=\u001b[0m\u001b[1;32mTrue\u001b[0m\u001b[1;33m)\u001b[0m\u001b[1;33m\u001b[0m\u001b[1;33m\u001b[0m\u001b[0m\n",
      "\u001b[1;32m<ipython-input-9-0e79e08a2e2e>\u001b[0m in \u001b[0;36mget_dataframe\u001b[1;34m(self)\u001b[0m\n\u001b[0;32m     25\u001b[0m \u001b[1;33m\u001b[0m\u001b[0m\n\u001b[0;32m     26\u001b[0m     \u001b[1;32mdef\u001b[0m \u001b[0mget_dataframe\u001b[0m\u001b[1;33m(\u001b[0m\u001b[0mself\u001b[0m\u001b[1;33m)\u001b[0m\u001b[1;33m:\u001b[0m\u001b[1;33m\u001b[0m\u001b[1;33m\u001b[0m\u001b[0m\n\u001b[1;32m---> 27\u001b[1;33m         \u001b[0mself\u001b[0m\u001b[1;33m.\u001b[0m\u001b[0mdataframe\u001b[0m \u001b[1;33m=\u001b[0m \u001b[0mpd\u001b[0m\u001b[1;33m.\u001b[0m\u001b[0mDataFrame\u001b[0m\u001b[1;33m(\u001b[0m\u001b[0mself\u001b[0m\u001b[1;33m.\u001b[0m\u001b[0mscrape_data\u001b[0m\u001b[1;33m(\u001b[0m\u001b[1;33m)\u001b[0m\u001b[1;33m)\u001b[0m\u001b[1;33m\u001b[0m\u001b[1;33m\u001b[0m\u001b[0m\n\u001b[0m\u001b[0;32m     28\u001b[0m         \u001b[0mself\u001b[0m\u001b[1;33m.\u001b[0m\u001b[0mtemp_timestamp\u001b[0m \u001b[1;33m=\u001b[0m \u001b[0mself\u001b[0m\u001b[1;33m.\u001b[0m\u001b[0mdataframe\u001b[0m\u001b[1;33m[\u001b[0m\u001b[1;34m\"created\"\u001b[0m\u001b[1;33m]\u001b[0m\u001b[1;33m.\u001b[0m\u001b[0mapply\u001b[0m\u001b[1;33m(\u001b[0m\u001b[1;32mlambda\u001b[0m \u001b[0mx\u001b[0m \u001b[1;33m:\u001b[0m \u001b[0mdt\u001b[0m\u001b[1;33m.\u001b[0m\u001b[0mdatetime\u001b[0m\u001b[1;33m.\u001b[0m\u001b[0mfromtimestamp\u001b[0m\u001b[1;33m(\u001b[0m\u001b[0mx\u001b[0m\u001b[1;33m)\u001b[0m\u001b[1;33m)\u001b[0m\u001b[1;33m\u001b[0m\u001b[1;33m\u001b[0m\u001b[0m\n\u001b[0;32m     29\u001b[0m         \u001b[0mself\u001b[0m\u001b[1;33m.\u001b[0m\u001b[0mdataframe\u001b[0m \u001b[1;33m=\u001b[0m \u001b[0mself\u001b[0m\u001b[1;33m.\u001b[0m\u001b[0mdataframe\u001b[0m\u001b[1;33m.\u001b[0m\u001b[0massign\u001b[0m\u001b[1;33m(\u001b[0m\u001b[0mtimestamp\u001b[0m \u001b[1;33m=\u001b[0m \u001b[0mself\u001b[0m\u001b[1;33m.\u001b[0m\u001b[0mtemp_timestamp\u001b[0m\u001b[1;33m)\u001b[0m\u001b[1;33m\u001b[0m\u001b[1;33m\u001b[0m\u001b[0m\n",
      "\u001b[1;32m<ipython-input-9-0e79e08a2e2e>\u001b[0m in \u001b[0;36mscrape_data\u001b[1;34m(self)\u001b[0m\n\u001b[0;32m     14\u001b[0m \u001b[1;33m\u001b[0m\u001b[0m\n\u001b[0;32m     15\u001b[0m     \u001b[1;32mdef\u001b[0m \u001b[0mscrape_data\u001b[0m\u001b[1;33m(\u001b[0m\u001b[0mself\u001b[0m\u001b[1;33m)\u001b[0m\u001b[1;33m:\u001b[0m\u001b[1;33m\u001b[0m\u001b[1;33m\u001b[0m\u001b[0m\n\u001b[1;32m---> 16\u001b[1;33m         \u001b[1;32mfor\u001b[0m \u001b[0msubmission\u001b[0m \u001b[1;32min\u001b[0m \u001b[0mself\u001b[0m\u001b[1;33m.\u001b[0m\u001b[0msubreddit\u001b[0m\u001b[1;33m.\u001b[0m\u001b[0msearch\u001b[0m\u001b[1;33m(\u001b[0m\u001b[0mself\u001b[0m\u001b[1;33m.\u001b[0m\u001b[0mtag\u001b[0m\u001b[1;33m,\u001b[0m\u001b[0mlimit\u001b[0m\u001b[1;33m=\u001b[0m\u001b[0mself\u001b[0m\u001b[1;33m.\u001b[0m\u001b[0mno_of_results\u001b[0m\u001b[1;33m)\u001b[0m\u001b[1;33m:\u001b[0m\u001b[1;33m\u001b[0m\u001b[1;33m\u001b[0m\u001b[0m\n\u001b[0m\u001b[0;32m     17\u001b[0m             \u001b[0mself\u001b[0m\u001b[1;33m.\u001b[0m\u001b[0mtopics_dict\u001b[0m\u001b[1;33m[\u001b[0m\u001b[1;34m\"title\"\u001b[0m\u001b[1;33m]\u001b[0m\u001b[1;33m.\u001b[0m\u001b[0mappend\u001b[0m\u001b[1;33m(\u001b[0m\u001b[0msubmission\u001b[0m\u001b[1;33m.\u001b[0m\u001b[0mtitle\u001b[0m\u001b[1;33m)\u001b[0m\u001b[1;33m\u001b[0m\u001b[1;33m\u001b[0m\u001b[0m\n\u001b[0;32m     18\u001b[0m             \u001b[0mself\u001b[0m\u001b[1;33m.\u001b[0m\u001b[0mtopics_dict\u001b[0m\u001b[1;33m[\u001b[0m\u001b[1;34m\"score\"\u001b[0m\u001b[1;33m]\u001b[0m\u001b[1;33m.\u001b[0m\u001b[0mappend\u001b[0m\u001b[1;33m(\u001b[0m\u001b[0msubmission\u001b[0m\u001b[1;33m.\u001b[0m\u001b[0mscore\u001b[0m\u001b[1;33m)\u001b[0m\u001b[1;33m\u001b[0m\u001b[1;33m\u001b[0m\u001b[0m\n",
      "\u001b[1;32mC:\\ProgramData\\Anaconda3\\lib\\site-packages\\praw\\models\\listing\\generator.py\u001b[0m in \u001b[0;36m__next__\u001b[1;34m(self)\u001b[0m\n\u001b[0;32m     59\u001b[0m \u001b[1;33m\u001b[0m\u001b[0m\n\u001b[0;32m     60\u001b[0m         \u001b[1;32mif\u001b[0m \u001b[0mself\u001b[0m\u001b[1;33m.\u001b[0m\u001b[0m_listing\u001b[0m \u001b[1;32mis\u001b[0m \u001b[1;32mNone\u001b[0m \u001b[1;32mor\u001b[0m \u001b[0mself\u001b[0m\u001b[1;33m.\u001b[0m\u001b[0m_list_index\u001b[0m \u001b[1;33m>=\u001b[0m \u001b[0mlen\u001b[0m\u001b[1;33m(\u001b[0m\u001b[0mself\u001b[0m\u001b[1;33m.\u001b[0m\u001b[0m_listing\u001b[0m\u001b[1;33m)\u001b[0m\u001b[1;33m:\u001b[0m\u001b[1;33m\u001b[0m\u001b[1;33m\u001b[0m\u001b[0m\n\u001b[1;32m---> 61\u001b[1;33m             \u001b[0mself\u001b[0m\u001b[1;33m.\u001b[0m\u001b[0m_next_batch\u001b[0m\u001b[1;33m(\u001b[0m\u001b[1;33m)\u001b[0m\u001b[1;33m\u001b[0m\u001b[1;33m\u001b[0m\u001b[0m\n\u001b[0m\u001b[0;32m     62\u001b[0m \u001b[1;33m\u001b[0m\u001b[0m\n\u001b[0;32m     63\u001b[0m         \u001b[0mself\u001b[0m\u001b[1;33m.\u001b[0m\u001b[0m_list_index\u001b[0m \u001b[1;33m+=\u001b[0m \u001b[1;36m1\u001b[0m\u001b[1;33m\u001b[0m\u001b[1;33m\u001b[0m\u001b[0m\n",
      "\u001b[1;32mC:\\ProgramData\\Anaconda3\\lib\\site-packages\\praw\\models\\listing\\generator.py\u001b[0m in \u001b[0;36m_next_batch\u001b[1;34m(self)\u001b[0m\n\u001b[0;32m     69\u001b[0m             \u001b[1;32mraise\u001b[0m \u001b[0mStopIteration\u001b[0m\u001b[1;33m(\u001b[0m\u001b[1;33m)\u001b[0m\u001b[1;33m\u001b[0m\u001b[1;33m\u001b[0m\u001b[0m\n\u001b[0;32m     70\u001b[0m \u001b[1;33m\u001b[0m\u001b[0m\n\u001b[1;32m---> 71\u001b[1;33m         \u001b[0mself\u001b[0m\u001b[1;33m.\u001b[0m\u001b[0m_listing\u001b[0m \u001b[1;33m=\u001b[0m \u001b[0mself\u001b[0m\u001b[1;33m.\u001b[0m\u001b[0m_reddit\u001b[0m\u001b[1;33m.\u001b[0m\u001b[0mget\u001b[0m\u001b[1;33m(\u001b[0m\u001b[0mself\u001b[0m\u001b[1;33m.\u001b[0m\u001b[0murl\u001b[0m\u001b[1;33m,\u001b[0m \u001b[0mparams\u001b[0m\u001b[1;33m=\u001b[0m\u001b[0mself\u001b[0m\u001b[1;33m.\u001b[0m\u001b[0mparams\u001b[0m\u001b[1;33m)\u001b[0m\u001b[1;33m\u001b[0m\u001b[1;33m\u001b[0m\u001b[0m\n\u001b[0m\u001b[0;32m     72\u001b[0m         \u001b[1;32mif\u001b[0m \u001b[0misinstance\u001b[0m\u001b[1;33m(\u001b[0m\u001b[0mself\u001b[0m\u001b[1;33m.\u001b[0m\u001b[0m_listing\u001b[0m\u001b[1;33m,\u001b[0m \u001b[0mlist\u001b[0m\u001b[1;33m)\u001b[0m\u001b[1;33m:\u001b[0m\u001b[1;33m\u001b[0m\u001b[1;33m\u001b[0m\u001b[0m\n\u001b[0;32m     73\u001b[0m             \u001b[0mself\u001b[0m\u001b[1;33m.\u001b[0m\u001b[0m_listing\u001b[0m \u001b[1;33m=\u001b[0m \u001b[0mself\u001b[0m\u001b[1;33m.\u001b[0m\u001b[0m_listing\u001b[0m\u001b[1;33m[\u001b[0m\u001b[1;36m1\u001b[0m\u001b[1;33m]\u001b[0m  \u001b[1;31m# for submission duplicates\u001b[0m\u001b[1;33m\u001b[0m\u001b[1;33m\u001b[0m\u001b[0m\n",
      "\u001b[1;32mC:\\ProgramData\\Anaconda3\\lib\\site-packages\\praw\\reddit.py\u001b[0m in \u001b[0;36mget\u001b[1;34m(self, path, params)\u001b[0m\n\u001b[0;32m    488\u001b[0m \u001b[1;33m\u001b[0m\u001b[0m\n\u001b[0;32m    489\u001b[0m         \"\"\"\n\u001b[1;32m--> 490\u001b[1;33m         \u001b[1;32mreturn\u001b[0m \u001b[0mself\u001b[0m\u001b[1;33m.\u001b[0m\u001b[0m_objectify_request\u001b[0m\u001b[1;33m(\u001b[0m\u001b[0mmethod\u001b[0m\u001b[1;33m=\u001b[0m\u001b[1;34m\"GET\"\u001b[0m\u001b[1;33m,\u001b[0m \u001b[0mparams\u001b[0m\u001b[1;33m=\u001b[0m\u001b[0mparams\u001b[0m\u001b[1;33m,\u001b[0m \u001b[0mpath\u001b[0m\u001b[1;33m=\u001b[0m\u001b[0mpath\u001b[0m\u001b[1;33m)\u001b[0m\u001b[1;33m\u001b[0m\u001b[1;33m\u001b[0m\u001b[0m\n\u001b[0m\u001b[0;32m    491\u001b[0m \u001b[1;33m\u001b[0m\u001b[0m\n\u001b[0;32m    492\u001b[0m     def info(\n",
      "\u001b[1;32mC:\\ProgramData\\Anaconda3\\lib\\site-packages\\praw\\reddit.py\u001b[0m in \u001b[0;36m_objectify_request\u001b[1;34m(self, data, files, method, params, path)\u001b[0m\n\u001b[0;32m    571\u001b[0m         \"\"\"\n\u001b[0;32m    572\u001b[0m         return self._objector.objectify(\n\u001b[1;32m--> 573\u001b[1;33m             self.request(\n\u001b[0m\u001b[0;32m    574\u001b[0m                 \u001b[0mdata\u001b[0m\u001b[1;33m=\u001b[0m\u001b[0mdata\u001b[0m\u001b[1;33m,\u001b[0m \u001b[0mfiles\u001b[0m\u001b[1;33m=\u001b[0m\u001b[0mfiles\u001b[0m\u001b[1;33m,\u001b[0m \u001b[0mmethod\u001b[0m\u001b[1;33m=\u001b[0m\u001b[0mmethod\u001b[0m\u001b[1;33m,\u001b[0m \u001b[0mparams\u001b[0m\u001b[1;33m=\u001b[0m\u001b[0mparams\u001b[0m\u001b[1;33m,\u001b[0m \u001b[0mpath\u001b[0m\u001b[1;33m=\u001b[0m\u001b[0mpath\u001b[0m\u001b[1;33m\u001b[0m\u001b[1;33m\u001b[0m\u001b[0m\n\u001b[0;32m    575\u001b[0m             )\n",
      "\u001b[1;32mC:\\ProgramData\\Anaconda3\\lib\\site-packages\\praw\\reddit.py\u001b[0m in \u001b[0;36mrequest\u001b[1;34m(self, method, path, params, data, files)\u001b[0m\n\u001b[0;32m    724\u001b[0m         \"\"\"\n\u001b[0;32m    725\u001b[0m         \u001b[1;32mtry\u001b[0m\u001b[1;33m:\u001b[0m\u001b[1;33m\u001b[0m\u001b[1;33m\u001b[0m\u001b[0m\n\u001b[1;32m--> 726\u001b[1;33m             return self._core.request(\n\u001b[0m\u001b[0;32m    727\u001b[0m                 \u001b[0mmethod\u001b[0m\u001b[1;33m,\u001b[0m\u001b[1;33m\u001b[0m\u001b[1;33m\u001b[0m\u001b[0m\n\u001b[0;32m    728\u001b[0m                 \u001b[0mpath\u001b[0m\u001b[1;33m,\u001b[0m\u001b[1;33m\u001b[0m\u001b[1;33m\u001b[0m\u001b[0m\n",
      "\u001b[1;32mC:\\ProgramData\\Anaconda3\\lib\\site-packages\\prawcore\\sessions.py\u001b[0m in \u001b[0;36mrequest\u001b[1;34m(self, method, path, data, files, json, params, timeout)\u001b[0m\n\u001b[0;32m    327\u001b[0m             \u001b[0mdata\u001b[0m \u001b[1;33m=\u001b[0m \u001b[0msorted\u001b[0m\u001b[1;33m(\u001b[0m\u001b[0mdata\u001b[0m\u001b[1;33m.\u001b[0m\u001b[0mitems\u001b[0m\u001b[1;33m(\u001b[0m\u001b[1;33m)\u001b[0m\u001b[1;33m)\u001b[0m\u001b[1;33m\u001b[0m\u001b[1;33m\u001b[0m\u001b[0m\n\u001b[0;32m    328\u001b[0m         \u001b[0murl\u001b[0m \u001b[1;33m=\u001b[0m \u001b[0murljoin\u001b[0m\u001b[1;33m(\u001b[0m\u001b[0mself\u001b[0m\u001b[1;33m.\u001b[0m\u001b[0m_requestor\u001b[0m\u001b[1;33m.\u001b[0m\u001b[0moauth_url\u001b[0m\u001b[1;33m,\u001b[0m \u001b[0mpath\u001b[0m\u001b[1;33m)\u001b[0m\u001b[1;33m\u001b[0m\u001b[1;33m\u001b[0m\u001b[0m\n\u001b[1;32m--> 329\u001b[1;33m         return self._request_with_retries(\n\u001b[0m\u001b[0;32m    330\u001b[0m             \u001b[0mdata\u001b[0m\u001b[1;33m=\u001b[0m\u001b[0mdata\u001b[0m\u001b[1;33m,\u001b[0m\u001b[1;33m\u001b[0m\u001b[1;33m\u001b[0m\u001b[0m\n\u001b[0;32m    331\u001b[0m             \u001b[0mfiles\u001b[0m\u001b[1;33m=\u001b[0m\u001b[0mfiles\u001b[0m\u001b[1;33m,\u001b[0m\u001b[1;33m\u001b[0m\u001b[1;33m\u001b[0m\u001b[0m\n",
      "\u001b[1;32mC:\\ProgramData\\Anaconda3\\lib\\site-packages\\prawcore\\sessions.py\u001b[0m in \u001b[0;36m_request_with_retries\u001b[1;34m(self, data, files, json, method, params, timeout, url, retry_strategy_state)\u001b[0m\n\u001b[0;32m    250\u001b[0m             \u001b[1;32mor\u001b[0m \u001b[0mresponse\u001b[0m\u001b[1;33m.\u001b[0m\u001b[0mstatus_code\u001b[0m \u001b[1;32min\u001b[0m \u001b[0mself\u001b[0m\u001b[1;33m.\u001b[0m\u001b[0mRETRY_STATUSES\u001b[0m\u001b[1;33m\u001b[0m\u001b[1;33m\u001b[0m\u001b[0m\n\u001b[0;32m    251\u001b[0m         ):\n\u001b[1;32m--> 252\u001b[1;33m             return self._do_retry(\n\u001b[0m\u001b[0;32m    253\u001b[0m                 \u001b[0mdata\u001b[0m\u001b[1;33m,\u001b[0m\u001b[1;33m\u001b[0m\u001b[1;33m\u001b[0m\u001b[0m\n\u001b[0;32m    254\u001b[0m                 \u001b[0mfiles\u001b[0m\u001b[1;33m,\u001b[0m\u001b[1;33m\u001b[0m\u001b[1;33m\u001b[0m\u001b[0m\n",
      "\u001b[1;32mC:\\ProgramData\\Anaconda3\\lib\\site-packages\\prawcore\\sessions.py\u001b[0m in \u001b[0;36m_do_retry\u001b[1;34m(self, data, files, json, method, params, response, retry_strategy_state, saved_exception, timeout, url)\u001b[0m\n\u001b[0;32m    160\u001b[0m             \u001b[1;34m\"Retrying due to {} status: {} {}\"\u001b[0m\u001b[1;33m.\u001b[0m\u001b[0mformat\u001b[0m\u001b[1;33m(\u001b[0m\u001b[0mstatus\u001b[0m\u001b[1;33m,\u001b[0m \u001b[0mmethod\u001b[0m\u001b[1;33m,\u001b[0m \u001b[0murl\u001b[0m\u001b[1;33m)\u001b[0m\u001b[1;33m\u001b[0m\u001b[1;33m\u001b[0m\u001b[0m\n\u001b[0;32m    161\u001b[0m         )\n\u001b[1;32m--> 162\u001b[1;33m         return self._request_with_retries(\n\u001b[0m\u001b[0;32m    163\u001b[0m             \u001b[0mdata\u001b[0m\u001b[1;33m=\u001b[0m\u001b[0mdata\u001b[0m\u001b[1;33m,\u001b[0m\u001b[1;33m\u001b[0m\u001b[1;33m\u001b[0m\u001b[0m\n\u001b[0;32m    164\u001b[0m             \u001b[0mfiles\u001b[0m\u001b[1;33m=\u001b[0m\u001b[0mfiles\u001b[0m\u001b[1;33m,\u001b[0m\u001b[1;33m\u001b[0m\u001b[1;33m\u001b[0m\u001b[0m\n",
      "\u001b[1;32mC:\\ProgramData\\Anaconda3\\lib\\site-packages\\prawcore\\sessions.py\u001b[0m in \u001b[0;36m_request_with_retries\u001b[1;34m(self, data, files, json, method, params, timeout, url, retry_strategy_state)\u001b[0m\n\u001b[0;32m    250\u001b[0m             \u001b[1;32mor\u001b[0m \u001b[0mresponse\u001b[0m\u001b[1;33m.\u001b[0m\u001b[0mstatus_code\u001b[0m \u001b[1;32min\u001b[0m \u001b[0mself\u001b[0m\u001b[1;33m.\u001b[0m\u001b[0mRETRY_STATUSES\u001b[0m\u001b[1;33m\u001b[0m\u001b[1;33m\u001b[0m\u001b[0m\n\u001b[0;32m    251\u001b[0m         ):\n\u001b[1;32m--> 252\u001b[1;33m             return self._do_retry(\n\u001b[0m\u001b[0;32m    253\u001b[0m                 \u001b[0mdata\u001b[0m\u001b[1;33m,\u001b[0m\u001b[1;33m\u001b[0m\u001b[1;33m\u001b[0m\u001b[0m\n\u001b[0;32m    254\u001b[0m                 \u001b[0mfiles\u001b[0m\u001b[1;33m,\u001b[0m\u001b[1;33m\u001b[0m\u001b[1;33m\u001b[0m\u001b[0m\n",
      "\u001b[1;32mC:\\ProgramData\\Anaconda3\\lib\\site-packages\\prawcore\\sessions.py\u001b[0m in \u001b[0;36m_do_retry\u001b[1;34m(self, data, files, json, method, params, response, retry_strategy_state, saved_exception, timeout, url)\u001b[0m\n\u001b[0;32m    160\u001b[0m             \u001b[1;34m\"Retrying due to {} status: {} {}\"\u001b[0m\u001b[1;33m.\u001b[0m\u001b[0mformat\u001b[0m\u001b[1;33m(\u001b[0m\u001b[0mstatus\u001b[0m\u001b[1;33m,\u001b[0m \u001b[0mmethod\u001b[0m\u001b[1;33m,\u001b[0m \u001b[0murl\u001b[0m\u001b[1;33m)\u001b[0m\u001b[1;33m\u001b[0m\u001b[1;33m\u001b[0m\u001b[0m\n\u001b[0;32m    161\u001b[0m         )\n\u001b[1;32m--> 162\u001b[1;33m         return self._request_with_retries(\n\u001b[0m\u001b[0;32m    163\u001b[0m             \u001b[0mdata\u001b[0m\u001b[1;33m=\u001b[0m\u001b[0mdata\u001b[0m\u001b[1;33m,\u001b[0m\u001b[1;33m\u001b[0m\u001b[1;33m\u001b[0m\u001b[0m\n\u001b[0;32m    164\u001b[0m             \u001b[0mfiles\u001b[0m\u001b[1;33m=\u001b[0m\u001b[0mfiles\u001b[0m\u001b[1;33m,\u001b[0m\u001b[1;33m\u001b[0m\u001b[1;33m\u001b[0m\u001b[0m\n",
      "\u001b[1;32mC:\\ProgramData\\Anaconda3\\lib\\site-packages\\prawcore\\sessions.py\u001b[0m in \u001b[0;36m_request_with_retries\u001b[1;34m(self, data, files, json, method, params, timeout, url, retry_strategy_state)\u001b[0m\n\u001b[0;32m    225\u001b[0m         \u001b[0mretry_strategy_state\u001b[0m\u001b[1;33m.\u001b[0m\u001b[0msleep\u001b[0m\u001b[1;33m(\u001b[0m\u001b[1;33m)\u001b[0m\u001b[1;33m\u001b[0m\u001b[1;33m\u001b[0m\u001b[0m\n\u001b[0;32m    226\u001b[0m         \u001b[0mself\u001b[0m\u001b[1;33m.\u001b[0m\u001b[0m_log_request\u001b[0m\u001b[1;33m(\u001b[0m\u001b[0mdata\u001b[0m\u001b[1;33m,\u001b[0m \u001b[0mmethod\u001b[0m\u001b[1;33m,\u001b[0m \u001b[0mparams\u001b[0m\u001b[1;33m,\u001b[0m \u001b[0murl\u001b[0m\u001b[1;33m)\u001b[0m\u001b[1;33m\u001b[0m\u001b[1;33m\u001b[0m\u001b[0m\n\u001b[1;32m--> 227\u001b[1;33m         response, saved_exception = self._make_request(\n\u001b[0m\u001b[0;32m    228\u001b[0m             \u001b[0mdata\u001b[0m\u001b[1;33m,\u001b[0m\u001b[1;33m\u001b[0m\u001b[1;33m\u001b[0m\u001b[0m\n\u001b[0;32m    229\u001b[0m             \u001b[0mfiles\u001b[0m\u001b[1;33m,\u001b[0m\u001b[1;33m\u001b[0m\u001b[1;33m\u001b[0m\u001b[0m\n",
      "\u001b[1;32mC:\\ProgramData\\Anaconda3\\lib\\site-packages\\prawcore\\sessions.py\u001b[0m in \u001b[0;36m_make_request\u001b[1;34m(self, data, files, json, method, params, retry_strategy_state, timeout, url)\u001b[0m\n\u001b[0;32m    183\u001b[0m     ):\n\u001b[0;32m    184\u001b[0m         \u001b[1;32mtry\u001b[0m\u001b[1;33m:\u001b[0m\u001b[1;33m\u001b[0m\u001b[1;33m\u001b[0m\u001b[0m\n\u001b[1;32m--> 185\u001b[1;33m             response = self._rate_limiter.call(\n\u001b[0m\u001b[0;32m    186\u001b[0m                 \u001b[0mself\u001b[0m\u001b[1;33m.\u001b[0m\u001b[0m_requestor\u001b[0m\u001b[1;33m.\u001b[0m\u001b[0mrequest\u001b[0m\u001b[1;33m,\u001b[0m\u001b[1;33m\u001b[0m\u001b[1;33m\u001b[0m\u001b[0m\n\u001b[0;32m    187\u001b[0m                 \u001b[0mself\u001b[0m\u001b[1;33m.\u001b[0m\u001b[0m_set_header_callback\u001b[0m\u001b[1;33m,\u001b[0m\u001b[1;33m\u001b[0m\u001b[1;33m\u001b[0m\u001b[0m\n",
      "\u001b[1;32mC:\\ProgramData\\Anaconda3\\lib\\site-packages\\prawcore\\rate_limit.py\u001b[0m in \u001b[0;36mcall\u001b[1;34m(self, request_function, set_header_callback, *args, **kwargs)\u001b[0m\n\u001b[0;32m     33\u001b[0m         \"\"\"\n\u001b[0;32m     34\u001b[0m         \u001b[0mself\u001b[0m\u001b[1;33m.\u001b[0m\u001b[0mdelay\u001b[0m\u001b[1;33m(\u001b[0m\u001b[1;33m)\u001b[0m\u001b[1;33m\u001b[0m\u001b[1;33m\u001b[0m\u001b[0m\n\u001b[1;32m---> 35\u001b[1;33m         \u001b[0mkwargs\u001b[0m\u001b[1;33m[\u001b[0m\u001b[1;34m\"headers\"\u001b[0m\u001b[1;33m]\u001b[0m \u001b[1;33m=\u001b[0m \u001b[0mset_header_callback\u001b[0m\u001b[1;33m(\u001b[0m\u001b[1;33m)\u001b[0m\u001b[1;33m\u001b[0m\u001b[1;33m\u001b[0m\u001b[0m\n\u001b[0m\u001b[0;32m     36\u001b[0m         \u001b[0mresponse\u001b[0m \u001b[1;33m=\u001b[0m \u001b[0mrequest_function\u001b[0m\u001b[1;33m(\u001b[0m\u001b[1;33m*\u001b[0m\u001b[0margs\u001b[0m\u001b[1;33m,\u001b[0m \u001b[1;33m**\u001b[0m\u001b[0mkwargs\u001b[0m\u001b[1;33m)\u001b[0m\u001b[1;33m\u001b[0m\u001b[1;33m\u001b[0m\u001b[0m\n\u001b[0;32m     37\u001b[0m         \u001b[0mself\u001b[0m\u001b[1;33m.\u001b[0m\u001b[0mupdate\u001b[0m\u001b[1;33m(\u001b[0m\u001b[0mresponse\u001b[0m\u001b[1;33m.\u001b[0m\u001b[0mheaders\u001b[0m\u001b[1;33m)\u001b[0m\u001b[1;33m\u001b[0m\u001b[1;33m\u001b[0m\u001b[0m\n",
      "\u001b[1;32mC:\\ProgramData\\Anaconda3\\lib\\site-packages\\prawcore\\sessions.py\u001b[0m in \u001b[0;36m_set_header_callback\u001b[1;34m(self)\u001b[0m\n\u001b[0;32m    280\u001b[0m             \u001b[0mself\u001b[0m\u001b[1;33m.\u001b[0m\u001b[0m_authorizer\u001b[0m\u001b[1;33m,\u001b[0m \u001b[1;34m\"refresh\"\u001b[0m\u001b[1;33m\u001b[0m\u001b[1;33m\u001b[0m\u001b[0m\n\u001b[0;32m    281\u001b[0m         ):\n\u001b[1;32m--> 282\u001b[1;33m             \u001b[0mself\u001b[0m\u001b[1;33m.\u001b[0m\u001b[0m_authorizer\u001b[0m\u001b[1;33m.\u001b[0m\u001b[0mrefresh\u001b[0m\u001b[1;33m(\u001b[0m\u001b[1;33m)\u001b[0m\u001b[1;33m\u001b[0m\u001b[1;33m\u001b[0m\u001b[0m\n\u001b[0m\u001b[0;32m    283\u001b[0m         return {\n\u001b[0;32m    284\u001b[0m             \u001b[1;34m\"Authorization\"\u001b[0m\u001b[1;33m:\u001b[0m \u001b[1;34m\"bearer {}\"\u001b[0m\u001b[1;33m.\u001b[0m\u001b[0mformat\u001b[0m\u001b[1;33m(\u001b[0m\u001b[0mself\u001b[0m\u001b[1;33m.\u001b[0m\u001b[0m_authorizer\u001b[0m\u001b[1;33m.\u001b[0m\u001b[0maccess_token\u001b[0m\u001b[1;33m)\u001b[0m\u001b[1;33m\u001b[0m\u001b[1;33m\u001b[0m\u001b[0m\n",
      "\u001b[1;32mC:\\ProgramData\\Anaconda3\\lib\\site-packages\\prawcore\\auth.py\u001b[0m in \u001b[0;36mrefresh\u001b[1;34m(self)\u001b[0m\n\u001b[0;32m    347\u001b[0m     \u001b[1;32mdef\u001b[0m \u001b[0mrefresh\u001b[0m\u001b[1;33m(\u001b[0m\u001b[0mself\u001b[0m\u001b[1;33m)\u001b[0m\u001b[1;33m:\u001b[0m\u001b[1;33m\u001b[0m\u001b[1;33m\u001b[0m\u001b[0m\n\u001b[0;32m    348\u001b[0m         \u001b[1;34m\"\"\"Obtain a new personal-use script type access token.\"\"\"\u001b[0m\u001b[1;33m\u001b[0m\u001b[1;33m\u001b[0m\u001b[0m\n\u001b[1;32m--> 349\u001b[1;33m         self._request_token(\n\u001b[0m\u001b[0;32m    350\u001b[0m             \u001b[0mgrant_type\u001b[0m\u001b[1;33m=\u001b[0m\u001b[1;34m\"password\"\u001b[0m\u001b[1;33m,\u001b[0m\u001b[1;33m\u001b[0m\u001b[1;33m\u001b[0m\u001b[0m\n\u001b[0;32m    351\u001b[0m             \u001b[0musername\u001b[0m\u001b[1;33m=\u001b[0m\u001b[0mself\u001b[0m\u001b[1;33m.\u001b[0m\u001b[0m_username\u001b[0m\u001b[1;33m,\u001b[0m\u001b[1;33m\u001b[0m\u001b[1;33m\u001b[0m\u001b[0m\n",
      "\u001b[1;32mC:\\ProgramData\\Anaconda3\\lib\\site-packages\\prawcore\\auth.py\u001b[0m in \u001b[0;36m_request_token\u001b[1;34m(self, **data)\u001b[0m\n\u001b[0;32m    147\u001b[0m         )\n\u001b[0;32m    148\u001b[0m         \u001b[0mpre_request_time\u001b[0m \u001b[1;33m=\u001b[0m \u001b[0mtime\u001b[0m\u001b[1;33m.\u001b[0m\u001b[0mtime\u001b[0m\u001b[1;33m(\u001b[0m\u001b[1;33m)\u001b[0m\u001b[1;33m\u001b[0m\u001b[1;33m\u001b[0m\u001b[0m\n\u001b[1;32m--> 149\u001b[1;33m         \u001b[0mresponse\u001b[0m \u001b[1;33m=\u001b[0m \u001b[0mself\u001b[0m\u001b[1;33m.\u001b[0m\u001b[0m_authenticator\u001b[0m\u001b[1;33m.\u001b[0m\u001b[0m_post\u001b[0m\u001b[1;33m(\u001b[0m\u001b[0murl\u001b[0m\u001b[1;33m,\u001b[0m \u001b[1;33m**\u001b[0m\u001b[0mdata\u001b[0m\u001b[1;33m)\u001b[0m\u001b[1;33m\u001b[0m\u001b[1;33m\u001b[0m\u001b[0m\n\u001b[0m\u001b[0;32m    150\u001b[0m         \u001b[0mpayload\u001b[0m \u001b[1;33m=\u001b[0m \u001b[0mresponse\u001b[0m\u001b[1;33m.\u001b[0m\u001b[0mjson\u001b[0m\u001b[1;33m(\u001b[0m\u001b[1;33m)\u001b[0m\u001b[1;33m\u001b[0m\u001b[1;33m\u001b[0m\u001b[0m\n\u001b[0;32m    151\u001b[0m         \u001b[1;32mif\u001b[0m \u001b[1;34m\"error\"\u001b[0m \u001b[1;32min\u001b[0m \u001b[0mpayload\u001b[0m\u001b[1;33m:\u001b[0m  \u001b[1;31m# Why are these OKAY responses?\u001b[0m\u001b[1;33m\u001b[0m\u001b[1;33m\u001b[0m\u001b[0m\n",
      "\u001b[1;32mC:\\ProgramData\\Anaconda3\\lib\\site-packages\\prawcore\\auth.py\u001b[0m in \u001b[0;36m_post\u001b[1;34m(self, url, success_status, **data)\u001b[0m\n\u001b[0;32m     26\u001b[0m \u001b[1;33m\u001b[0m\u001b[0m\n\u001b[0;32m     27\u001b[0m     \u001b[1;32mdef\u001b[0m \u001b[0m_post\u001b[0m\u001b[1;33m(\u001b[0m\u001b[0mself\u001b[0m\u001b[1;33m,\u001b[0m \u001b[0murl\u001b[0m\u001b[1;33m,\u001b[0m \u001b[0msuccess_status\u001b[0m\u001b[1;33m=\u001b[0m\u001b[0mcodes\u001b[0m\u001b[1;33m[\u001b[0m\u001b[1;34m\"ok\"\u001b[0m\u001b[1;33m]\u001b[0m\u001b[1;33m,\u001b[0m \u001b[1;33m**\u001b[0m\u001b[0mdata\u001b[0m\u001b[1;33m)\u001b[0m\u001b[1;33m:\u001b[0m\u001b[1;33m\u001b[0m\u001b[1;33m\u001b[0m\u001b[0m\n\u001b[1;32m---> 28\u001b[1;33m         response = self._requestor.request(\n\u001b[0m\u001b[0;32m     29\u001b[0m             \u001b[1;34m\"post\"\u001b[0m\u001b[1;33m,\u001b[0m \u001b[0murl\u001b[0m\u001b[1;33m,\u001b[0m \u001b[0mauth\u001b[0m\u001b[1;33m=\u001b[0m\u001b[0mself\u001b[0m\u001b[1;33m.\u001b[0m\u001b[0m_auth\u001b[0m\u001b[1;33m(\u001b[0m\u001b[1;33m)\u001b[0m\u001b[1;33m,\u001b[0m \u001b[0mdata\u001b[0m\u001b[1;33m=\u001b[0m\u001b[0msorted\u001b[0m\u001b[1;33m(\u001b[0m\u001b[0mdata\u001b[0m\u001b[1;33m.\u001b[0m\u001b[0mitems\u001b[0m\u001b[1;33m(\u001b[0m\u001b[1;33m)\u001b[0m\u001b[1;33m)\u001b[0m\u001b[1;33m\u001b[0m\u001b[1;33m\u001b[0m\u001b[0m\n\u001b[0;32m     30\u001b[0m         )\n",
      "\u001b[1;32mC:\\ProgramData\\Anaconda3\\lib\\site-packages\\prawcore\\requestor.py\u001b[0m in \u001b[0;36mrequest\u001b[1;34m(self, timeout, *args, **kwargs)\u001b[0m\n\u001b[0;32m     53\u001b[0m             \u001b[1;32mreturn\u001b[0m \u001b[0mself\u001b[0m\u001b[1;33m.\u001b[0m\u001b[0m_http\u001b[0m\u001b[1;33m.\u001b[0m\u001b[0mrequest\u001b[0m\u001b[1;33m(\u001b[0m\u001b[1;33m*\u001b[0m\u001b[0margs\u001b[0m\u001b[1;33m,\u001b[0m \u001b[0mtimeout\u001b[0m\u001b[1;33m=\u001b[0m\u001b[0mtimeout\u001b[0m\u001b[1;33m,\u001b[0m \u001b[1;33m**\u001b[0m\u001b[0mkwargs\u001b[0m\u001b[1;33m)\u001b[0m\u001b[1;33m\u001b[0m\u001b[1;33m\u001b[0m\u001b[0m\n\u001b[0;32m     54\u001b[0m         \u001b[1;32mexcept\u001b[0m \u001b[0mException\u001b[0m \u001b[1;32mas\u001b[0m \u001b[0mexc\u001b[0m\u001b[1;33m:\u001b[0m\u001b[1;33m\u001b[0m\u001b[1;33m\u001b[0m\u001b[0m\n\u001b[1;32m---> 55\u001b[1;33m             \u001b[1;32mraise\u001b[0m \u001b[0mRequestException\u001b[0m\u001b[1;33m(\u001b[0m\u001b[0mexc\u001b[0m\u001b[1;33m,\u001b[0m \u001b[0margs\u001b[0m\u001b[1;33m,\u001b[0m \u001b[0mkwargs\u001b[0m\u001b[1;33m)\u001b[0m\u001b[1;33m\u001b[0m\u001b[1;33m\u001b[0m\u001b[0m\n\u001b[0m",
      "\u001b[1;31mRequestException\u001b[0m: error with request HTTPSConnectionPool(host='www.reddit.com', port=443): Max retries exceeded with url: /api/v1/access_token (Caused by NewConnectionError('<urllib3.connection.HTTPSConnection object at 0x00000125212954F0>: Failed to establish a new connection: [Errno 11001] getaddrinfo failed'))"
     ]
    }
   ],
   "source": [
    "jobInsecurity_pre_data5,jobInsecurity_lockdown_data5 = scrape(reddit,'singaporefi','job insecurity',500)\n",
    "\n",
    "jobInsecurity_pre_data5['keyword'] = ['job insecurity']*len(jobInsecurity_pre_data5)\n",
    "jobInsecurity_lockdown_data5['keyword'] = ['job insecurity']*len(jobInsecurity_lockdown_data5)\n",
    "\n",
    "print(f\"Number of data points in jobInsecurity_pre_data5 i.e, before lockdown : {len(jobInsecurity_pre_data5)}\")\n",
    "print(f\"Number of data points in jobInsecurity_lockdown_data5 : {len(jobInsecurity_lockdown_data5)}\")"
   ]
  },
  {
   "cell_type": "code",
   "execution_count": null,
   "metadata": {},
   "outputs": [],
   "source": []
  },
  {
   "cell_type": "code",
   "execution_count": null,
   "metadata": {},
   "outputs": [],
   "source": []
  },
  {
   "cell_type": "code",
   "execution_count": null,
   "metadata": {},
   "outputs": [],
   "source": []
  },
  {
   "cell_type": "code",
   "execution_count": null,
   "metadata": {},
   "outputs": [],
   "source": []
  },
  {
   "cell_type": "markdown",
   "metadata": {},
   "source": [
    "### 2.Dowry"
   ]
  },
  {
   "cell_type": "code",
   "execution_count": 16,
   "metadata": {},
   "outputs": [
    {
     "name": "stdout",
     "output_type": "stream",
     "text": [
      "Number of data points in dowry_pre_data : 30\n",
      "Number of data points in dowry_lockdown_data : 14\n"
     ]
    }
   ],
   "source": [
    "dowry_pre_data,dowry_lockdown_data = scrape(reddit,'india','dowry',500)\n",
    "\n",
    "dowry_pre_data['violence_type'] = ['dowry']*len(dowry_pre_data)\n",
    "dowry_lockdown_data['violence_type'] = ['dowry']*len(dowry_lockdown_data)\n",
    "\n",
    "print(f\"Number of data points in dowry_pre_data : {len(dowry_pre_data)}\")\n",
    "print(f\"Number of data points in dowry_lockdown_data : {len(dowry_lockdown_data)}\")"
   ]
  },
  {
   "cell_type": "code",
   "execution_count": 17,
   "metadata": {},
   "outputs": [
    {
     "name": "stdout",
     "output_type": "stream",
     "text": [
      "Number of data points in dowry_pre_data2 : 0\n",
      "Number of data points in dowry_lockdown_data2 : 1\n"
     ]
    }
   ],
   "source": [
    "dowry_pre_data2,dowry_lockdown_data2 = scrape(reddit,'relationship_advice','india dowry',500)\n",
    "\n",
    "dowry_pre_data2['violence_type'] = ['dowry']*len(dowry_pre_data2)\n",
    "dowry_lockdown_data2['violence_type'] = ['dowry']*len(dowry_lockdown_data2)\n",
    "\n",
    "print(f\"Number of data points in dowry_pre_data2 : {len(dowry_pre_data2)}\")\n",
    "print(f\"Number of data points in dowry_lockdown_data2 : {len(dowry_lockdown_data2)}\")"
   ]
  },
  {
   "cell_type": "code",
   "execution_count": 18,
   "metadata": {},
   "outputs": [
    {
     "name": "stdout",
     "output_type": "stream",
     "text": [
      "Number of data points in dowry_pre_data3 : 0\n",
      "Number of data points in dowry_lockdown_data3 : 0\n"
     ]
    }
   ],
   "source": [
    "dowry_pre_data3,dowry_lockdown_data3 = scrape(reddit,'advice','india dowry',500)\n",
    "\n",
    "dowry_pre_data3['violence_type'] = ['dowry']*len(dowry_pre_data3)\n",
    "dowry_lockdown_data3['violence_type'] = ['dowry']*len(dowry_lockdown_data3)\n",
    "\n",
    "print(f\"Number of data points in dowry_pre_data3 : {len(dowry_pre_data3)}\")\n",
    "print(f\"Number of data points in dowry_lockdown_data3 : {len(dowry_lockdown_data3)}\")"
   ]
  },
  {
   "cell_type": "code",
   "execution_count": 35,
   "metadata": {},
   "outputs": [
    {
     "name": "stdout",
     "output_type": "stream",
     "text": [
      "Number of data points in abuse_pre_data2 i.e, before lockdown : 1\n",
      "Number of data points in abuse_lockdown_data2 : 0\n"
     ]
    }
   ],
   "source": [
    "dowry_pre_data4,dowry_lockdown_data4 = scrape(reddit,'relationships','india dowry',500)\n",
    "\n",
    "dowry_pre_data4['violence_type'] = ['abuse']*len(dowry_pre_data4)\n",
    "dowry_lockdown_data4['violence_type'] = ['abuse']*len(dowry_lockdown_data4)\n",
    "\n",
    "\n",
    "print(f\"Number of data points in abuse_pre_data2 i.e, before lockdown : {len(dowry_pre_data4)}\")\n",
    "print(f\"Number of data points in abuse_lockdown_data2 : {len(dowry_lockdown_data4)}\")"
   ]
  },
  {
   "cell_type": "markdown",
   "metadata": {},
   "source": [
    "### Rape"
   ]
  },
  {
   "cell_type": "code",
   "execution_count": 20,
   "metadata": {},
   "outputs": [
    {
     "name": "stdout",
     "output_type": "stream",
     "text": [
      "Number of data points in rape_pre_data 59\n",
      "Number of data points in rape_lockdown_data 113\n"
     ]
    }
   ],
   "source": [
    "rape_pre_data,rape_lockdown_data = scrape(reddit,'india','rape',500)\n",
    "\n",
    "rape_pre_data['violence_type'] = ['rape']*len(rape_pre_data)\n",
    "rape_lockdown_data['violence_type'] = ['rape']*len(rape_lockdown_data)\n",
    "\n",
    "print(f\"Number of data points in rape_pre_data {len(rape_pre_data)}\")\n",
    "print(f\"Number of data points in rape_lockdown_data {len(rape_lockdown_data)}\")"
   ]
  },
  {
   "cell_type": "code",
   "execution_count": 21,
   "metadata": {},
   "outputs": [
    {
     "name": "stdout",
     "output_type": "stream",
     "text": [
      "Number of data points in rape_pre_data2 2\n",
      "Number of data points in rape_lockdown_data2 4\n"
     ]
    }
   ],
   "source": [
    "rape_pre_data2,rape_lockdown_data2 = scrape(reddit,'relationship_advice','india rape',500)\n",
    "\n",
    "rape_pre_data2['violence_type'] = ['rape']*len(rape_pre_data2)\n",
    "rape_lockdown_data2['violence_type'] = ['rape']*len(rape_lockdown_data2)\n",
    "\n",
    "print(f\"Number of data points in rape_pre_data2 {len(rape_pre_data2)}\")\n",
    "print(f\"Number of data points in rape_lockdown_data2 {len(rape_lockdown_data2)}\")"
   ]
  },
  {
   "cell_type": "markdown",
   "metadata": {},
   "source": [
    "### Justice for "
   ]
  },
  {
   "cell_type": "code",
   "execution_count": 22,
   "metadata": {},
   "outputs": [
    {
     "name": "stdout",
     "output_type": "stream",
     "text": [
      "Number of data points in justice_pre_data 45\n",
      "Number of data points in justice_lockdown_data 35\n"
     ]
    }
   ],
   "source": [
    "justice_pre_data,justice_lockdown_data = scrape(reddit,'india','justice for',500)\n",
    "\n",
    "justice_pre_data['violence_type'] = ['justice']*len(justice_pre_data)\n",
    "justice_lockdown_data['violence_type'] = ['justice'] * len(justice_lockdown_data)\n",
    "\n",
    "print(f\"Number of data points in justice_pre_data {len(justice_pre_data)}\")\n",
    "print(f\"Number of data points in justice_lockdown_data {len(justice_lockdown_data)}\")"
   ]
  },
  {
   "cell_type": "markdown",
   "metadata": {},
   "source": [
    "### Robberies"
   ]
  },
  {
   "cell_type": "code",
   "execution_count": 23,
   "metadata": {},
   "outputs": [
    {
     "name": "stdout",
     "output_type": "stream",
     "text": [
      "Number of data points in roberry_pre_data 21\n",
      "Number of data points in roberry_lockdown_data 5\n"
     ]
    }
   ],
   "source": [
    "robbery_pre_data,robbery_lockdown_data = scrape(reddit,'india','robbery',500)\n",
    "\n",
    "robbery_pre_data['violence_type'] = ['robbery']* len(robbery_pre_data)\n",
    "robbery_lockdown_data['violence_type'] = ['robbery']*len(robbery_lockdown_data)\n",
    "\n",
    "print(f\"Number of data points in roberry_pre_data {len(robbery_pre_data)}\")\n",
    "print(f\"Number of data points in roberry_lockdown_data {len(robbery_lockdown_data)}\")"
   ]
  },
  {
   "cell_type": "markdown",
   "metadata": {},
   "source": [
    "### Harassment"
   ]
  },
  {
   "cell_type": "code",
   "execution_count": 24,
   "metadata": {},
   "outputs": [
    {
     "name": "stdout",
     "output_type": "stream",
     "text": [
      "Number of data points in harassment_pre_data 35\n",
      "Number of data points in harassment_lockdown_data 64\n"
     ]
    }
   ],
   "source": [
    "harassment_pre_data,harassment_lockdown_data = scrape(reddit,'india','harassment',1000)\n",
    "\n",
    "harassment_pre_data['violence_type'] = ['harassment']* len(harassment_pre_data)\n",
    "harassment_lockdown_data['violence_type'] = ['harassment']*len(harassment_lockdown_data)\n",
    "\n",
    "print(f\"Number of data points in harassment_pre_data {len(harassment_pre_data)}\")\n",
    "print(f\"Number of data points in harassment_lockdown_data {len(harassment_lockdown_data)}\")"
   ]
  },
  {
   "cell_type": "code",
   "execution_count": 25,
   "metadata": {},
   "outputs": [
    {
     "name": "stdout",
     "output_type": "stream",
     "text": [
      "Number of data points in harassment_pre_data 2\n",
      "Number of data points in harassment_lockdown_data 2\n"
     ]
    }
   ],
   "source": [
    "harassment_pre_data2,harassment_lockdown_data2 = scrape(reddit,'relationship_advice','india harassment',1000)\n",
    "\n",
    "harassment_pre_data2['violence_type'] = ['harassment']* len(harassment_pre_data2)\n",
    "harassment_lockdown_data2['violence_type'] = ['harassment']*len(harassment_lockdown_data2)\n",
    "\n",
    "print(f\"Number of data points in harassment_pre_data {len(harassment_pre_data2)}\")\n",
    "print(f\"Number of data points in harassment_lockdown_data {len(harassment_lockdown_data2)}\")"
   ]
  },
  {
   "cell_type": "code",
   "execution_count": 26,
   "metadata": {},
   "outputs": [
    {
     "name": "stdout",
     "output_type": "stream",
     "text": [
      "Number of data points in harassment_pre_data 2\n",
      "Number of data points in harassment_lockdown_data 0\n"
     ]
    }
   ],
   "source": [
    "harassment_pre_data3,harassment_lockdown_data3 = scrape(reddit,'relationships','india harassment',1000)\n",
    "\n",
    "harassment_pre_data3['violence_type'] = ['harassment']* len(harassment_pre_data3)\n",
    "harassment_lockdown_data3['violence_type'] = ['harassment']*len(harassment_lockdown_data3)\n",
    "\n",
    "print(f\"Number of data points in harassment_pre_data {len(harassment_pre_data3)}\")\n",
    "print(f\"Number of data points in harassment_lockdown_data {len(harassment_lockdown_data3)}\")"
   ]
  },
  {
   "cell_type": "markdown",
   "metadata": {},
   "source": [
    "### Survivor"
   ]
  },
  {
   "cell_type": "code",
   "execution_count": 27,
   "metadata": {},
   "outputs": [
    {
     "name": "stdout",
     "output_type": "stream",
     "text": [
      "Number of data points in survivor_pre_data 35\n",
      "Number of data points in survivor_lockdown_data 17\n"
     ]
    }
   ],
   "source": [
    "survivor_pre_data,survivor_lockdown_data = scrape(reddit,'india','survivor',1000)\n",
    "\n",
    "survivor_pre_data['violence_type'] = ['survivor']* len(survivor_pre_data)\n",
    "survivor_lockdown_data['violence_type'] = ['survivor']*len(survivor_lockdown_data)\n",
    "\n",
    "print(f\"Number of data points in survivor_pre_data {len(survivor_pre_data)}\")\n",
    "print(f\"Number of data points in survivor_lockdown_data {len(survivor_lockdown_data)}\")"
   ]
  },
  {
   "cell_type": "markdown",
   "metadata": {},
   "source": [
    "### victim"
   ]
  },
  {
   "cell_type": "code",
   "execution_count": 28,
   "metadata": {},
   "outputs": [
    {
     "name": "stdout",
     "output_type": "stream",
     "text": [
      "Number of data points in victim_pre_data 40\n",
      "Number of data points in victim_lockdown_data 105\n"
     ]
    }
   ],
   "source": [
    "victim_pre_data,victim_lockdown_data = scrape(reddit,'india','victim',1000)\n",
    "\n",
    "victim_pre_data['violence_type'] = ['victim']* len(victim_pre_data)\n",
    "victim_lockdown_data['violence_type'] = ['victim']*len(victim_lockdown_data)\n",
    "\n",
    "print(f\"Number of data points in victim_pre_data {len(victim_pre_data)}\")\n",
    "print(f\"Number of data points in victim_lockdown_data {len(victim_lockdown_data)}\")"
   ]
  },
  {
   "cell_type": "code",
   "execution_count": 29,
   "metadata": {},
   "outputs": [
    {
     "name": "stdout",
     "output_type": "stream",
     "text": [
      "Number of data points in victim_pre_data 2\n",
      "Number of data points in victim_lockdown_data 0\n"
     ]
    }
   ],
   "source": [
    "victim_pre_data2,victim_lockdown_data2 = scrape(reddit,'relationship_advice','india victim',1000)\n",
    "\n",
    "victim_pre_data2['violence_type'] = ['victim']* len(victim_pre_data2)\n",
    "victim_lockdown_data2['violence_type'] = ['victim']*len(victim_lockdown_data2)\n",
    "\n",
    "print(f\"Number of data points in victim_pre_data {len(victim_pre_data2)}\")\n",
    "print(f\"Number of data points in victim_lockdown_data {len(victim_lockdown_data2)}\")"
   ]
  },
  {
   "cell_type": "markdown",
   "metadata": {},
   "source": [
    "### Family Abuse"
   ]
  },
  {
   "cell_type": "code",
   "execution_count": 30,
   "metadata": {},
   "outputs": [
    {
     "name": "stdout",
     "output_type": "stream",
     "text": [
      "Number of data points in victim_pre_data 27\n",
      "Number of data points in victim_lockdown_data 41\n"
     ]
    }
   ],
   "source": [
    "family_abuse_pre_data,family_abuse_lockdown_data = scrape(reddit,'india','family abuse',1000)\n",
    "\n",
    "family_abuse_pre_data['violence_type'] = ['victim']* len(family_abuse_pre_data)\n",
    "family_abuse_lockdown_data['violence_type'] = ['victim']*len(family_abuse_lockdown_data)\n",
    "\n",
    "print(f\"Number of data points in victim_pre_data {len(family_abuse_pre_data)}\")\n",
    "print(f\"Number of data points in victim_lockdown_data {len(family_abuse_lockdown_data)}\")"
   ]
  },
  {
   "cell_type": "code",
   "execution_count": 31,
   "metadata": {},
   "outputs": [
    {
     "name": "stdout",
     "output_type": "stream",
     "text": [
      "Number of data points in victim_pre_data 26\n",
      "Number of data points in victim_lockdown_data 133\n"
     ]
    }
   ],
   "source": [
    "family_abuse_pre_data2,family_abuse_lockdown_data2 = scrape(reddit,'relationship_advice','family abuse',1000)\n",
    "\n",
    "family_abuse_pre_data2['violence_type'] = ['victim']* len(family_abuse_pre_data2)\n",
    "family_abuse_lockdown_data2['violence_type'] = ['victim']*len(family_abuse_lockdown_data2)\n",
    "\n",
    "print(f\"Number of data points in victim_pre_data {len(family_abuse_pre_data2)}\")\n",
    "print(f\"Number of data points in victim_lockdown_data {len(family_abuse_lockdown_data2)}\")"
   ]
  },
  {
   "cell_type": "code",
   "execution_count": 32,
   "metadata": {},
   "outputs": [
    {
     "name": "stdout",
     "output_type": "stream",
     "text": [
      "Number of data points in victim_pre_data 22\n",
      "Number of data points in victim_lockdown_data 112\n"
     ]
    }
   ],
   "source": [
    "family_abuse_pre_data3,family_abuse_lockdown_data3 = scrape(reddit,'relationships','family abuse',1000)\n",
    "\n",
    "family_abuse_pre_data3['violence_type'] = ['victim']* len(family_abuse_pre_data3)\n",
    "family_abuse_lockdown_data3['violence_type'] = ['victim']*len(family_abuse_lockdown_data3)\n",
    "\n",
    "print(f\"Number of data points in victim_pre_data {len(family_abuse_pre_data3)}\")\n",
    "print(f\"Number of data points in victim_lockdown_data {len(family_abuse_lockdown_data3)}\")"
   ]
  },
  {
   "cell_type": "code",
   "execution_count": 33,
   "metadata": {},
   "outputs": [
    {
     "name": "stdout",
     "output_type": "stream",
     "text": [
      "Number of data points in victim_pre_data 22\n",
      "Number of data points in victim_lockdown_data 112\n"
     ]
    }
   ],
   "source": [
    "family_abuse_pre_data4,family_abuse_lockdown_data4 = scrape(reddit,'relationships','family abuse',1000)\n",
    "\n",
    "family_abuse_pre_data4['violence_type'] = ['victim']* len(family_abuse_pre_data4)\n",
    "family_abuse_lockdown_data4['violence_type'] = ['victim']*len(family_abuse_lockdown_data4)\n",
    "\n",
    "print(f\"Number of data points in victim_pre_data {len(family_abuse_pre_data4)}\")\n",
    "print(f\"Number of data points in victim_lockdown_data {len(family_abuse_lockdown_data4)}\")"
   ]
  },
  {
   "cell_type": "markdown",
   "metadata": {},
   "source": [
    "# Merging data"
   ]
  },
  {
   "cell_type": "code",
   "execution_count": 36,
   "metadata": {},
   "outputs": [],
   "source": [
    "pre_data = pd.concat([abuse_pre_data,abuse_pre_data2,abuse_pre_data3,abuse_pre_data4,\n",
    "                      dowry_pre_data,dowry_pre_data2,dowry_pre_data3,dowry_pre_data4,rape_pre_data,rape_pre_data2,\n",
    "                      justice_pre_data,robbery_pre_data,harassment_pre_data,harassment_pre_data2,harassment_pre_data3,\n",
    "                      survivor_pre_data,victim_pre_data, victim_pre_data2,family_abuse_pre_data,family_abuse_pre_data2,\n",
    "                      family_abuse_pre_data3,family_abuse_pre_data4])\n",
    "\n",
    "lockdown_data = pd.concat([abuse_lockdown_data,abuse_lockdown_data2,abuse_lockdown_data3,\n",
    "                           abuse_lockdown_data4,dowry_lockdown_data,dowry_lockdown_data2,\n",
    "                           dowry_lockdown_data3,dowry_lockdown_data4,rape_lockdown_data,rape_lockdown_data2,\n",
    "                           justice_lockdown_data,robbery_lockdown_data,harassment_lockdown_data,\n",
    "                           harassment_lockdown_data2,harassment_lockdown_data3, survivor_lockdown_data,\n",
    "                           victim_lockdown_data, victim_lockdown_data2,family_abuse_lockdown_data,\n",
    "                           family_abuse_lockdown_data2,family_abuse_lockdown_data3,family_abuse_lockdown_data4])"
   ]
  },
  {
   "cell_type": "code",
   "execution_count": 37,
   "metadata": {},
   "outputs": [
    {
     "name": "stdout",
     "output_type": "stream",
     "text": [
      "Length of lockdown data 930\n",
      "Length of unique lockdown data 721\n"
     ]
    }
   ],
   "source": [
    "print(f\"Length of lockdown data {len(lockdown_data)}\")\n",
    "lockdown_data = lockdown_data.drop_duplicates(subset='title',keep='first')\n",
    "print(f\"Length of unique lockdown data {len(lockdown_data)}\")"
   ]
  },
  {
   "cell_type": "code",
   "execution_count": 38,
   "metadata": {},
   "outputs": [
    {
     "name": "stdout",
     "output_type": "stream",
     "text": [
      "Length of pre lockdown data 439\n",
      "Length of unique pre lockdown data 395\n"
     ]
    }
   ],
   "source": [
    "print(f\"Length of pre lockdown data {len(pre_data)}\")\n",
    "pre_data = pre_data.drop_duplicates(subset='title',keep='first')\n",
    "print(f\"Length of unique pre lockdown data {len(pre_data)}\")"
   ]
  },
  {
   "cell_type": "markdown",
   "metadata": {},
   "source": [
    "## 2. Other subreddits \n",
    "\n",
    "We'll focus on the following subreddits\n",
    "\n",
    "1. raisedbynarcissists\n",
    "2. adultsurvivors\n",
    "3. legaladvice\n",
    "4. Parenting\n",
    "5. MensRights\n",
    "6. abuse\n",
    "7. GenderCritical"
   ]
  },
  {
   "cell_type": "code",
   "execution_count": 39,
   "metadata": {},
   "outputs": [
    {
     "name": "stdout",
     "output_type": "stream",
     "text": [
      "41\n",
      "139\n"
     ]
    }
   ],
   "source": [
    "multiple_subs_pre,multiple_subs_lockdown = scrape(reddit,'raisebynarcissists+adultsurvivors+legaladvice+Parenting+MensRights+abuse+GenderCritical+lgbt'\n",
    "                                                  ,'india',3000)\n",
    "print(len(multiple_subs_pre))\n",
    "print(len(multiple_subs_lockdown))"
   ]
  },
  {
   "cell_type": "code",
   "execution_count": 40,
   "metadata": {},
   "outputs": [],
   "source": [
    "pre_data = pd.concat([pre_data,multiple_subs_pre])\n",
    "lockdown_data = pd.concat([lockdown_data,multiple_subs_lockdown])"
   ]
  },
  {
   "cell_type": "code",
   "execution_count": 41,
   "metadata": {},
   "outputs": [
    {
     "data": {
      "text/plain": [
       "860"
      ]
     },
     "execution_count": 41,
     "metadata": {},
     "output_type": "execute_result"
    }
   ],
   "source": [
    "len(lockdown_data)"
   ]
  },
  {
   "cell_type": "code",
   "execution_count": 42,
   "metadata": {},
   "outputs": [],
   "source": [
    "lockdown_data.to_csv('lockdown_reddit.csv')\n",
    "pre_data.to_csv('pre_lockdown_reddit.csv')"
   ]
  },
  {
   "cell_type": "markdown",
   "metadata": {},
   "source": [
    "# Modelling\n",
    "\n",
    "We'll extract the following features from the data also while filtering irrelevant entries parallely\n",
    "\n",
    "* Age\n",
    "* Gender\n",
    "* Sexual Orientation\n",
    "* Imagery\n",
    "* Location\n",
    "* Language\n",
    "* Time of day when active\n",
    "* relationship between victim and abuser\n"
   ]
  },
  {
   "cell_type": "code",
   "execution_count": 43,
   "metadata": {},
   "outputs": [],
   "source": [
    "# Let's see what do we have\n",
    "\n",
    "df = pd.read_csv('lockdown_reddit.csv')"
   ]
  },
  {
   "cell_type": "code",
   "execution_count": 44,
   "metadata": {},
   "outputs": [
    {
     "name": "stdout",
     "output_type": "stream",
     "text": [
      "Unnamed: 0         int64\n",
      "index              int64\n",
      "title             object\n",
      "score            float64\n",
      "id                object\n",
      "url               object\n",
      "comms_num        float64\n",
      "created          float64\n",
      "body              object\n",
      "year             float64\n",
      "month            float64\n",
      "day              float64\n",
      "time              object\n",
      "violence_type     object\n",
      "dtype: object\n"
     ]
    },
    {
     "data": {
      "text/html": [
       "<div>\n",
       "<style scoped>\n",
       "    .dataframe tbody tr th:only-of-type {\n",
       "        vertical-align: middle;\n",
       "    }\n",
       "\n",
       "    .dataframe tbody tr th {\n",
       "        vertical-align: top;\n",
       "    }\n",
       "\n",
       "    .dataframe thead th {\n",
       "        text-align: right;\n",
       "    }\n",
       "</style>\n",
       "<table border=\"1\" class=\"dataframe\">\n",
       "  <thead>\n",
       "    <tr style=\"text-align: right;\">\n",
       "      <th></th>\n",
       "      <th>Unnamed: 0</th>\n",
       "      <th>index</th>\n",
       "      <th>title</th>\n",
       "      <th>score</th>\n",
       "      <th>id</th>\n",
       "      <th>url</th>\n",
       "      <th>comms_num</th>\n",
       "      <th>created</th>\n",
       "      <th>body</th>\n",
       "      <th>year</th>\n",
       "      <th>month</th>\n",
       "      <th>day</th>\n",
       "      <th>time</th>\n",
       "      <th>violence_type</th>\n",
       "    </tr>\n",
       "  </thead>\n",
       "  <tbody>\n",
       "    <tr>\n",
       "      <th>0</th>\n",
       "      <td>0</td>\n",
       "      <td>0</td>\n",
       "      <td>There is NO ROOM for abuse.Period. Digital Pai...</td>\n",
       "      <td>3136.0</td>\n",
       "      <td>gfoc94</td>\n",
       "      <td>https://i.redd.it/xfvcce15rhx41.jpg</td>\n",
       "      <td>328.0</td>\n",
       "      <td>1.588951e+09</td>\n",
       "      <td>NaN</td>\n",
       "      <td>2020.0</td>\n",
       "      <td>5.0</td>\n",
       "      <td>8.0</td>\n",
       "      <td>20:57:12</td>\n",
       "      <td>abuse</td>\n",
       "    </tr>\n",
       "    <tr>\n",
       "      <th>1</th>\n",
       "      <td>1</td>\n",
       "      <td>1</td>\n",
       "      <td>Capitalism and Private firms during covid. Wor...</td>\n",
       "      <td>281.0</td>\n",
       "      <td>gsmest</td>\n",
       "      <td>https://www.reddit.com/r/india/comments/gsmest...</td>\n",
       "      <td>86.0</td>\n",
       "      <td>1.590757e+09</td>\n",
       "      <td>My friend works from 8:30 to 17:30. Meanwhile ...</td>\n",
       "      <td>2020.0</td>\n",
       "      <td>5.0</td>\n",
       "      <td>29.0</td>\n",
       "      <td>18:47:13</td>\n",
       "      <td>abuse</td>\n",
       "    </tr>\n",
       "    <tr>\n",
       "      <th>2</th>\n",
       "      <td>2</td>\n",
       "      <td>2</td>\n",
       "      <td>Behind closed doors, the biggest viruses are m...</td>\n",
       "      <td>1129.0</td>\n",
       "      <td>fzzzji</td>\n",
       "      <td>https://i.redd.it/dc1v110v0fs41.jpg</td>\n",
       "      <td>172.0</td>\n",
       "      <td>1.586738e+09</td>\n",
       "      <td>NaN</td>\n",
       "      <td>2020.0</td>\n",
       "      <td>4.0</td>\n",
       "      <td>13.0</td>\n",
       "      <td>06:25:34</td>\n",
       "      <td>abuse</td>\n",
       "    </tr>\n",
       "    <tr>\n",
       "      <th>3</th>\n",
       "      <td>3</td>\n",
       "      <td>3</td>\n",
       "      <td>Bait for one, Death for another. But is it jus...</td>\n",
       "      <td>56.0</td>\n",
       "      <td>gx7zv5</td>\n",
       "      <td>https://i.redd.it/dv07s7qsd4351.jpg</td>\n",
       "      <td>15.0</td>\n",
       "      <td>1.591404e+09</td>\n",
       "      <td>NaN</td>\n",
       "      <td>2020.0</td>\n",
       "      <td>6.0</td>\n",
       "      <td>6.0</td>\n",
       "      <td>06:24:05</td>\n",
       "      <td>abuse</td>\n",
       "    </tr>\n",
       "    <tr>\n",
       "      <th>4</th>\n",
       "      <td>4</td>\n",
       "      <td>4</td>\n",
       "      <td>Lawyers of India, if I try to file a domestic ...</td>\n",
       "      <td>45.0</td>\n",
       "      <td>gvzj3d</td>\n",
       "      <td>https://www.reddit.com/r/india/comments/gvzj3d...</td>\n",
       "      <td>16.0</td>\n",
       "      <td>1.591238e+09</td>\n",
       "      <td>My ex-boyfriend (2 year relationship) is from ...</td>\n",
       "      <td>2020.0</td>\n",
       "      <td>6.0</td>\n",
       "      <td>4.0</td>\n",
       "      <td>08:14:50</td>\n",
       "      <td>abuse</td>\n",
       "    </tr>\n",
       "  </tbody>\n",
       "</table>\n",
       "</div>"
      ],
      "text/plain": [
       "   Unnamed: 0  index                                              title  \\\n",
       "0           0      0  There is NO ROOM for abuse.Period. Digital Pai...   \n",
       "1           1      1  Capitalism and Private firms during covid. Wor...   \n",
       "2           2      2  Behind closed doors, the biggest viruses are m...   \n",
       "3           3      3  Bait for one, Death for another. But is it jus...   \n",
       "4           4      4  Lawyers of India, if I try to file a domestic ...   \n",
       "\n",
       "    score      id                                                url  \\\n",
       "0  3136.0  gfoc94                https://i.redd.it/xfvcce15rhx41.jpg   \n",
       "1   281.0  gsmest  https://www.reddit.com/r/india/comments/gsmest...   \n",
       "2  1129.0  fzzzji                https://i.redd.it/dc1v110v0fs41.jpg   \n",
       "3    56.0  gx7zv5                https://i.redd.it/dv07s7qsd4351.jpg   \n",
       "4    45.0  gvzj3d  https://www.reddit.com/r/india/comments/gvzj3d...   \n",
       "\n",
       "   comms_num       created                                               body  \\\n",
       "0      328.0  1.588951e+09                                                NaN   \n",
       "1       86.0  1.590757e+09  My friend works from 8:30 to 17:30. Meanwhile ...   \n",
       "2      172.0  1.586738e+09                                                NaN   \n",
       "3       15.0  1.591404e+09                                                NaN   \n",
       "4       16.0  1.591238e+09  My ex-boyfriend (2 year relationship) is from ...   \n",
       "\n",
       "     year  month   day      time violence_type  \n",
       "0  2020.0    5.0   8.0  20:57:12         abuse  \n",
       "1  2020.0    5.0  29.0  18:47:13         abuse  \n",
       "2  2020.0    4.0  13.0  06:25:34         abuse  \n",
       "3  2020.0    6.0   6.0  06:24:05         abuse  \n",
       "4  2020.0    6.0   4.0  08:14:50         abuse  "
      ]
     },
     "execution_count": 44,
     "metadata": {},
     "output_type": "execute_result"
    }
   ],
   "source": [
    "print(df.dtypes)\n",
    "df.head()"
   ]
  },
  {
   "cell_type": "markdown",
   "metadata": {},
   "source": [
    "### Age"
   ]
  },
  {
   "cell_type": "code",
   "execution_count": 45,
   "metadata": {},
   "outputs": [],
   "source": [
    "df['body'] = df['body'].fillna('None').apply(str)"
   ]
  },
  {
   "cell_type": "code",
   "execution_count": 46,
   "metadata": {},
   "outputs": [],
   "source": [
    "import re\n",
    "def age_extractor(sentence):\n",
    "    match = re.findall(r\"\\b\\d{2}(?!%)[^\\d]\", sentence)\n",
    "\n",
    "    if match:\n",
    "        return re.findall(r\"\\b\\d{2}(?!%)[^\\d]\", sentence)[0][:2]\n",
    "    else:\n",
    "        return None\n"
   ]
  },
  {
   "cell_type": "code",
   "execution_count": 47,
   "metadata": {},
   "outputs": [],
   "source": [
    "df['age'] = df['body'].apply(age_extractor)"
   ]
  },
  {
   "cell_type": "code",
   "execution_count": 48,
   "metadata": {},
   "outputs": [
    {
     "data": {
      "text/plain": [
       "0      None\n",
       "1        30\n",
       "2      None\n",
       "3      None\n",
       "4      None\n",
       "       ... \n",
       "855    None\n",
       "856      18\n",
       "857    None\n",
       "858      16\n",
       "859      21\n",
       "Name: age, Length: 860, dtype: object"
      ]
     },
     "execution_count": 48,
     "metadata": {},
     "output_type": "execute_result"
    }
   ],
   "source": [
    "df['age']"
   ]
  },
  {
   "cell_type": "code",
   "execution_count": 49,
   "metadata": {
    "collapsed": true,
    "jupyter": {
     "outputs_hidden": true
    }
   },
   "outputs": [
    {
     "ename": "KeyError",
     "evalue": "\"['city' 'state'] not found in axis\"",
     "output_type": "error",
     "traceback": [
      "\u001b[1;31m---------------------------------------------------------------------------\u001b[0m",
      "\u001b[1;31mKeyError\u001b[0m                                  Traceback (most recent call last)",
      "\u001b[1;32m<ipython-input-49-c2a1cb3c1b11>\u001b[0m in \u001b[0;36m<module>\u001b[1;34m\u001b[0m\n\u001b[1;32m----> 1\u001b[1;33m \u001b[0mdf\u001b[0m\u001b[1;33m.\u001b[0m\u001b[0mdrop\u001b[0m\u001b[1;33m(\u001b[0m\u001b[1;33m[\u001b[0m\u001b[1;34m'city'\u001b[0m\u001b[1;33m,\u001b[0m\u001b[1;34m'state'\u001b[0m\u001b[1;33m]\u001b[0m\u001b[1;33m,\u001b[0m\u001b[0maxis\u001b[0m\u001b[1;33m=\u001b[0m\u001b[1;36m1\u001b[0m\u001b[1;33m,\u001b[0m\u001b[0minplace\u001b[0m\u001b[1;33m=\u001b[0m\u001b[1;32mTrue\u001b[0m\u001b[1;33m)\u001b[0m\u001b[1;33m\u001b[0m\u001b[1;33m\u001b[0m\u001b[0m\n\u001b[0m",
      "\u001b[1;32mc:\\users\\sunil\\appdata\\local\\programs\\python\\python36\\lib\\site-packages\\pandas\\core\\frame.py\u001b[0m in \u001b[0;36mdrop\u001b[1;34m(self, labels, axis, index, columns, level, inplace, errors)\u001b[0m\n\u001b[0;32m   3995\u001b[0m             \u001b[0mlevel\u001b[0m\u001b[1;33m=\u001b[0m\u001b[0mlevel\u001b[0m\u001b[1;33m,\u001b[0m\u001b[1;33m\u001b[0m\u001b[1;33m\u001b[0m\u001b[0m\n\u001b[0;32m   3996\u001b[0m             \u001b[0minplace\u001b[0m\u001b[1;33m=\u001b[0m\u001b[0minplace\u001b[0m\u001b[1;33m,\u001b[0m\u001b[1;33m\u001b[0m\u001b[1;33m\u001b[0m\u001b[0m\n\u001b[1;32m-> 3997\u001b[1;33m             \u001b[0merrors\u001b[0m\u001b[1;33m=\u001b[0m\u001b[0merrors\u001b[0m\u001b[1;33m,\u001b[0m\u001b[1;33m\u001b[0m\u001b[1;33m\u001b[0m\u001b[0m\n\u001b[0m\u001b[0;32m   3998\u001b[0m         )\n\u001b[0;32m   3999\u001b[0m \u001b[1;33m\u001b[0m\u001b[0m\n",
      "\u001b[1;32mc:\\users\\sunil\\appdata\\local\\programs\\python\\python36\\lib\\site-packages\\pandas\\core\\generic.py\u001b[0m in \u001b[0;36mdrop\u001b[1;34m(self, labels, axis, index, columns, level, inplace, errors)\u001b[0m\n\u001b[0;32m   3934\u001b[0m         \u001b[1;32mfor\u001b[0m \u001b[0maxis\u001b[0m\u001b[1;33m,\u001b[0m \u001b[0mlabels\u001b[0m \u001b[1;32min\u001b[0m \u001b[0maxes\u001b[0m\u001b[1;33m.\u001b[0m\u001b[0mitems\u001b[0m\u001b[1;33m(\u001b[0m\u001b[1;33m)\u001b[0m\u001b[1;33m:\u001b[0m\u001b[1;33m\u001b[0m\u001b[1;33m\u001b[0m\u001b[0m\n\u001b[0;32m   3935\u001b[0m             \u001b[1;32mif\u001b[0m \u001b[0mlabels\u001b[0m \u001b[1;32mis\u001b[0m \u001b[1;32mnot\u001b[0m \u001b[1;32mNone\u001b[0m\u001b[1;33m:\u001b[0m\u001b[1;33m\u001b[0m\u001b[1;33m\u001b[0m\u001b[0m\n\u001b[1;32m-> 3936\u001b[1;33m                 \u001b[0mobj\u001b[0m \u001b[1;33m=\u001b[0m \u001b[0mobj\u001b[0m\u001b[1;33m.\u001b[0m\u001b[0m_drop_axis\u001b[0m\u001b[1;33m(\u001b[0m\u001b[0mlabels\u001b[0m\u001b[1;33m,\u001b[0m \u001b[0maxis\u001b[0m\u001b[1;33m,\u001b[0m \u001b[0mlevel\u001b[0m\u001b[1;33m=\u001b[0m\u001b[0mlevel\u001b[0m\u001b[1;33m,\u001b[0m \u001b[0merrors\u001b[0m\u001b[1;33m=\u001b[0m\u001b[0merrors\u001b[0m\u001b[1;33m)\u001b[0m\u001b[1;33m\u001b[0m\u001b[1;33m\u001b[0m\u001b[0m\n\u001b[0m\u001b[0;32m   3937\u001b[0m \u001b[1;33m\u001b[0m\u001b[0m\n\u001b[0;32m   3938\u001b[0m         \u001b[1;32mif\u001b[0m \u001b[0minplace\u001b[0m\u001b[1;33m:\u001b[0m\u001b[1;33m\u001b[0m\u001b[1;33m\u001b[0m\u001b[0m\n",
      "\u001b[1;32mc:\\users\\sunil\\appdata\\local\\programs\\python\\python36\\lib\\site-packages\\pandas\\core\\generic.py\u001b[0m in \u001b[0;36m_drop_axis\u001b[1;34m(self, labels, axis, level, errors)\u001b[0m\n\u001b[0;32m   3968\u001b[0m                 \u001b[0mnew_axis\u001b[0m \u001b[1;33m=\u001b[0m \u001b[0maxis\u001b[0m\u001b[1;33m.\u001b[0m\u001b[0mdrop\u001b[0m\u001b[1;33m(\u001b[0m\u001b[0mlabels\u001b[0m\u001b[1;33m,\u001b[0m \u001b[0mlevel\u001b[0m\u001b[1;33m=\u001b[0m\u001b[0mlevel\u001b[0m\u001b[1;33m,\u001b[0m \u001b[0merrors\u001b[0m\u001b[1;33m=\u001b[0m\u001b[0merrors\u001b[0m\u001b[1;33m)\u001b[0m\u001b[1;33m\u001b[0m\u001b[1;33m\u001b[0m\u001b[0m\n\u001b[0;32m   3969\u001b[0m             \u001b[1;32melse\u001b[0m\u001b[1;33m:\u001b[0m\u001b[1;33m\u001b[0m\u001b[1;33m\u001b[0m\u001b[0m\n\u001b[1;32m-> 3970\u001b[1;33m                 \u001b[0mnew_axis\u001b[0m \u001b[1;33m=\u001b[0m \u001b[0maxis\u001b[0m\u001b[1;33m.\u001b[0m\u001b[0mdrop\u001b[0m\u001b[1;33m(\u001b[0m\u001b[0mlabels\u001b[0m\u001b[1;33m,\u001b[0m \u001b[0merrors\u001b[0m\u001b[1;33m=\u001b[0m\u001b[0merrors\u001b[0m\u001b[1;33m)\u001b[0m\u001b[1;33m\u001b[0m\u001b[1;33m\u001b[0m\u001b[0m\n\u001b[0m\u001b[0;32m   3971\u001b[0m             \u001b[0mresult\u001b[0m \u001b[1;33m=\u001b[0m \u001b[0mself\u001b[0m\u001b[1;33m.\u001b[0m\u001b[0mreindex\u001b[0m\u001b[1;33m(\u001b[0m\u001b[1;33m**\u001b[0m\u001b[1;33m{\u001b[0m\u001b[0maxis_name\u001b[0m\u001b[1;33m:\u001b[0m \u001b[0mnew_axis\u001b[0m\u001b[1;33m}\u001b[0m\u001b[1;33m)\u001b[0m\u001b[1;33m\u001b[0m\u001b[1;33m\u001b[0m\u001b[0m\n\u001b[0;32m   3972\u001b[0m \u001b[1;33m\u001b[0m\u001b[0m\n",
      "\u001b[1;32mc:\\users\\sunil\\appdata\\local\\programs\\python\\python36\\lib\\site-packages\\pandas\\core\\indexes\\base.py\u001b[0m in \u001b[0;36mdrop\u001b[1;34m(self, labels, errors)\u001b[0m\n\u001b[0;32m   5015\u001b[0m         \u001b[1;32mif\u001b[0m \u001b[0mmask\u001b[0m\u001b[1;33m.\u001b[0m\u001b[0many\u001b[0m\u001b[1;33m(\u001b[0m\u001b[1;33m)\u001b[0m\u001b[1;33m:\u001b[0m\u001b[1;33m\u001b[0m\u001b[1;33m\u001b[0m\u001b[0m\n\u001b[0;32m   5016\u001b[0m             \u001b[1;32mif\u001b[0m \u001b[0merrors\u001b[0m \u001b[1;33m!=\u001b[0m \u001b[1;34m\"ignore\"\u001b[0m\u001b[1;33m:\u001b[0m\u001b[1;33m\u001b[0m\u001b[1;33m\u001b[0m\u001b[0m\n\u001b[1;32m-> 5017\u001b[1;33m                 \u001b[1;32mraise\u001b[0m \u001b[0mKeyError\u001b[0m\u001b[1;33m(\u001b[0m\u001b[1;34mf\"{labels[mask]} not found in axis\"\u001b[0m\u001b[1;33m)\u001b[0m\u001b[1;33m\u001b[0m\u001b[1;33m\u001b[0m\u001b[0m\n\u001b[0m\u001b[0;32m   5018\u001b[0m             \u001b[0mindexer\u001b[0m \u001b[1;33m=\u001b[0m \u001b[0mindexer\u001b[0m\u001b[1;33m[\u001b[0m\u001b[1;33m~\u001b[0m\u001b[0mmask\u001b[0m\u001b[1;33m]\u001b[0m\u001b[1;33m\u001b[0m\u001b[1;33m\u001b[0m\u001b[0m\n\u001b[0;32m   5019\u001b[0m         \u001b[1;32mreturn\u001b[0m \u001b[0mself\u001b[0m\u001b[1;33m.\u001b[0m\u001b[0mdelete\u001b[0m\u001b[1;33m(\u001b[0m\u001b[0mindexer\u001b[0m\u001b[1;33m)\u001b[0m\u001b[1;33m\u001b[0m\u001b[1;33m\u001b[0m\u001b[0m\n",
      "\u001b[1;31mKeyError\u001b[0m: \"['city' 'state'] not found in axis\""
     ]
    }
   ],
   "source": [
    "df.drop(['city','state'],axis=1,inplace=True)"
   ]
  },
  {
   "cell_type": "code",
   "execution_count": 50,
   "metadata": {},
   "outputs": [],
   "source": [
    "df = df.loc[df['title'].notna(),:]"
   ]
  },
  {
   "cell_type": "code",
   "execution_count": 51,
   "metadata": {},
   "outputs": [
    {
     "data": {
      "text/plain": [
       "860"
      ]
     },
     "execution_count": 51,
     "metadata": {},
     "output_type": "execute_result"
    }
   ],
   "source": [
    "len(df)"
   ]
  },
  {
   "cell_type": "code",
   "execution_count": 52,
   "metadata": {},
   "outputs": [
    {
     "data": {
      "text/html": [
       "<div>\n",
       "<style scoped>\n",
       "    .dataframe tbody tr th:only-of-type {\n",
       "        vertical-align: middle;\n",
       "    }\n",
       "\n",
       "    .dataframe tbody tr th {\n",
       "        vertical-align: top;\n",
       "    }\n",
       "\n",
       "    .dataframe thead th {\n",
       "        text-align: right;\n",
       "    }\n",
       "</style>\n",
       "<table border=\"1\" class=\"dataframe\">\n",
       "  <thead>\n",
       "    <tr style=\"text-align: right;\">\n",
       "      <th></th>\n",
       "      <th>Unnamed: 0</th>\n",
       "      <th>index</th>\n",
       "      <th>title</th>\n",
       "      <th>score</th>\n",
       "      <th>id</th>\n",
       "      <th>url</th>\n",
       "      <th>comms_num</th>\n",
       "      <th>created</th>\n",
       "      <th>body</th>\n",
       "      <th>year</th>\n",
       "      <th>month</th>\n",
       "      <th>day</th>\n",
       "      <th>time</th>\n",
       "      <th>violence_type</th>\n",
       "      <th>age</th>\n",
       "    </tr>\n",
       "  </thead>\n",
       "  <tbody>\n",
       "    <tr>\n",
       "      <th>0</th>\n",
       "      <td>0</td>\n",
       "      <td>0</td>\n",
       "      <td>There is NO ROOM for abuse.Period. Digital Pai...</td>\n",
       "      <td>3136.0</td>\n",
       "      <td>gfoc94</td>\n",
       "      <td>https://i.redd.it/xfvcce15rhx41.jpg</td>\n",
       "      <td>328.0</td>\n",
       "      <td>1.588951e+09</td>\n",
       "      <td>None</td>\n",
       "      <td>2020.0</td>\n",
       "      <td>5.0</td>\n",
       "      <td>8.0</td>\n",
       "      <td>20:57:12</td>\n",
       "      <td>abuse</td>\n",
       "      <td>None</td>\n",
       "    </tr>\n",
       "    <tr>\n",
       "      <th>1</th>\n",
       "      <td>1</td>\n",
       "      <td>1</td>\n",
       "      <td>Capitalism and Private firms during covid. Wor...</td>\n",
       "      <td>281.0</td>\n",
       "      <td>gsmest</td>\n",
       "      <td>https://www.reddit.com/r/india/comments/gsmest...</td>\n",
       "      <td>86.0</td>\n",
       "      <td>1.590757e+09</td>\n",
       "      <td>My friend works from 8:30 to 17:30. Meanwhile ...</td>\n",
       "      <td>2020.0</td>\n",
       "      <td>5.0</td>\n",
       "      <td>29.0</td>\n",
       "      <td>18:47:13</td>\n",
       "      <td>abuse</td>\n",
       "      <td>30</td>\n",
       "    </tr>\n",
       "    <tr>\n",
       "      <th>2</th>\n",
       "      <td>2</td>\n",
       "      <td>2</td>\n",
       "      <td>Behind closed doors, the biggest viruses are m...</td>\n",
       "      <td>1129.0</td>\n",
       "      <td>fzzzji</td>\n",
       "      <td>https://i.redd.it/dc1v110v0fs41.jpg</td>\n",
       "      <td>172.0</td>\n",
       "      <td>1.586738e+09</td>\n",
       "      <td>None</td>\n",
       "      <td>2020.0</td>\n",
       "      <td>4.0</td>\n",
       "      <td>13.0</td>\n",
       "      <td>06:25:34</td>\n",
       "      <td>abuse</td>\n",
       "      <td>None</td>\n",
       "    </tr>\n",
       "    <tr>\n",
       "      <th>3</th>\n",
       "      <td>3</td>\n",
       "      <td>3</td>\n",
       "      <td>Bait for one, Death for another. But is it jus...</td>\n",
       "      <td>56.0</td>\n",
       "      <td>gx7zv5</td>\n",
       "      <td>https://i.redd.it/dv07s7qsd4351.jpg</td>\n",
       "      <td>15.0</td>\n",
       "      <td>1.591404e+09</td>\n",
       "      <td>None</td>\n",
       "      <td>2020.0</td>\n",
       "      <td>6.0</td>\n",
       "      <td>6.0</td>\n",
       "      <td>06:24:05</td>\n",
       "      <td>abuse</td>\n",
       "      <td>None</td>\n",
       "    </tr>\n",
       "    <tr>\n",
       "      <th>4</th>\n",
       "      <td>4</td>\n",
       "      <td>4</td>\n",
       "      <td>Lawyers of India, if I try to file a domestic ...</td>\n",
       "      <td>45.0</td>\n",
       "      <td>gvzj3d</td>\n",
       "      <td>https://www.reddit.com/r/india/comments/gvzj3d...</td>\n",
       "      <td>16.0</td>\n",
       "      <td>1.591238e+09</td>\n",
       "      <td>My ex-boyfriend (2 year relationship) is from ...</td>\n",
       "      <td>2020.0</td>\n",
       "      <td>6.0</td>\n",
       "      <td>4.0</td>\n",
       "      <td>08:14:50</td>\n",
       "      <td>abuse</td>\n",
       "      <td>None</td>\n",
       "    </tr>\n",
       "    <tr>\n",
       "      <th>...</th>\n",
       "      <td>...</td>\n",
       "      <td>...</td>\n",
       "      <td>...</td>\n",
       "      <td>...</td>\n",
       "      <td>...</td>\n",
       "      <td>...</td>\n",
       "      <td>...</td>\n",
       "      <td>...</td>\n",
       "      <td>...</td>\n",
       "      <td>...</td>\n",
       "      <td>...</td>\n",
       "      <td>...</td>\n",
       "      <td>...</td>\n",
       "      <td>...</td>\n",
       "      <td>...</td>\n",
       "    </tr>\n",
       "    <tr>\n",
       "      <th>855</th>\n",
       "      <td>134</td>\n",
       "      <td>231</td>\n",
       "      <td>Is it possible to amend the governing law loca...</td>\n",
       "      <td>2.0</td>\n",
       "      <td>ges6gh</td>\n",
       "      <td>https://www.reddit.com/r/legaladvice/comments/...</td>\n",
       "      <td>3.0</td>\n",
       "      <td>1.588827e+09</td>\n",
       "      <td>I'm located in USA and have a LLC. The manufac...</td>\n",
       "      <td>2020.0</td>\n",
       "      <td>5.0</td>\n",
       "      <td>7.0</td>\n",
       "      <td>10:30:01</td>\n",
       "      <td>NaN</td>\n",
       "      <td>None</td>\n",
       "    </tr>\n",
       "    <tr>\n",
       "      <th>856</th>\n",
       "      <td>135</td>\n",
       "      <td>232</td>\n",
       "      <td>Instagram Sex Service</td>\n",
       "      <td>0.0</td>\n",
       "      <td>g5p6ot</td>\n",
       "      <td>https://www.reddit.com/r/legaladvice/comments/...</td>\n",
       "      <td>11.0</td>\n",
       "      <td>1.587537e+09</td>\n",
       "      <td>I stay in India. So today, I matched with this...</td>\n",
       "      <td>2020.0</td>\n",
       "      <td>4.0</td>\n",
       "      <td>22.0</td>\n",
       "      <td>12:12:53</td>\n",
       "      <td>NaN</td>\n",
       "      <td>18</td>\n",
       "    </tr>\n",
       "    <tr>\n",
       "      <th>857</th>\n",
       "      <td>136</td>\n",
       "      <td>234</td>\n",
       "      <td>GET TWEETIG AND EMAILING!! It gets worse - men...</td>\n",
       "      <td>9.0</td>\n",
       "      <td>g4eqtv</td>\n",
       "      <td>https://www.reddit.com/r/MensRights/comments/g...</td>\n",
       "      <td>4.0</td>\n",
       "      <td>1.587357e+09</td>\n",
       "      <td>Some have seen this posted. I say it gets wors...</td>\n",
       "      <td>2020.0</td>\n",
       "      <td>4.0</td>\n",
       "      <td>20.0</td>\n",
       "      <td>10:10:28</td>\n",
       "      <td>NaN</td>\n",
       "      <td>None</td>\n",
       "    </tr>\n",
       "    <tr>\n",
       "      <th>858</th>\n",
       "      <td>137</td>\n",
       "      <td>235</td>\n",
       "      <td>Paid extra for 3 years for Netflix.</td>\n",
       "      <td>0.0</td>\n",
       "      <td>g6wnlm</td>\n",
       "      <td>https://www.reddit.com/r/legaladvice/comments/...</td>\n",
       "      <td>9.0</td>\n",
       "      <td>1.587711e+09</td>\n",
       "      <td>Hi everyone. A stupid post alert. \\n\\nApparent...</td>\n",
       "      <td>2020.0</td>\n",
       "      <td>4.0</td>\n",
       "      <td>24.0</td>\n",
       "      <td>12:26:59</td>\n",
       "      <td>NaN</td>\n",
       "      <td>16</td>\n",
       "    </tr>\n",
       "    <tr>\n",
       "      <th>859</th>\n",
       "      <td>138</td>\n",
       "      <td>240</td>\n",
       "      <td>My father hasn't been paying maintenance fees....</td>\n",
       "      <td>0.0</td>\n",
       "      <td>gpmmie</td>\n",
       "      <td>https://www.reddit.com/r/legaladvice/comments/...</td>\n",
       "      <td>0.0</td>\n",
       "      <td>1.590340e+09</td>\n",
       "      <td>Hello! Firstly I'd like to apologize if this i...</td>\n",
       "      <td>2020.0</td>\n",
       "      <td>5.0</td>\n",
       "      <td>24.0</td>\n",
       "      <td>22:56:59</td>\n",
       "      <td>NaN</td>\n",
       "      <td>21</td>\n",
       "    </tr>\n",
       "  </tbody>\n",
       "</table>\n",
       "<p>860 rows × 15 columns</p>\n",
       "</div>"
      ],
      "text/plain": [
       "     Unnamed: 0  index                                              title  \\\n",
       "0             0      0  There is NO ROOM for abuse.Period. Digital Pai...   \n",
       "1             1      1  Capitalism and Private firms during covid. Wor...   \n",
       "2             2      2  Behind closed doors, the biggest viruses are m...   \n",
       "3             3      3  Bait for one, Death for another. But is it jus...   \n",
       "4             4      4  Lawyers of India, if I try to file a domestic ...   \n",
       "..          ...    ...                                                ...   \n",
       "855         134    231  Is it possible to amend the governing law loca...   \n",
       "856         135    232                              Instagram Sex Service   \n",
       "857         136    234  GET TWEETIG AND EMAILING!! It gets worse - men...   \n",
       "858         137    235                Paid extra for 3 years for Netflix.   \n",
       "859         138    240  My father hasn't been paying maintenance fees....   \n",
       "\n",
       "      score      id                                                url  \\\n",
       "0    3136.0  gfoc94                https://i.redd.it/xfvcce15rhx41.jpg   \n",
       "1     281.0  gsmest  https://www.reddit.com/r/india/comments/gsmest...   \n",
       "2    1129.0  fzzzji                https://i.redd.it/dc1v110v0fs41.jpg   \n",
       "3      56.0  gx7zv5                https://i.redd.it/dv07s7qsd4351.jpg   \n",
       "4      45.0  gvzj3d  https://www.reddit.com/r/india/comments/gvzj3d...   \n",
       "..      ...     ...                                                ...   \n",
       "855     2.0  ges6gh  https://www.reddit.com/r/legaladvice/comments/...   \n",
       "856     0.0  g5p6ot  https://www.reddit.com/r/legaladvice/comments/...   \n",
       "857     9.0  g4eqtv  https://www.reddit.com/r/MensRights/comments/g...   \n",
       "858     0.0  g6wnlm  https://www.reddit.com/r/legaladvice/comments/...   \n",
       "859     0.0  gpmmie  https://www.reddit.com/r/legaladvice/comments/...   \n",
       "\n",
       "     comms_num       created  \\\n",
       "0        328.0  1.588951e+09   \n",
       "1         86.0  1.590757e+09   \n",
       "2        172.0  1.586738e+09   \n",
       "3         15.0  1.591404e+09   \n",
       "4         16.0  1.591238e+09   \n",
       "..         ...           ...   \n",
       "855        3.0  1.588827e+09   \n",
       "856       11.0  1.587537e+09   \n",
       "857        4.0  1.587357e+09   \n",
       "858        9.0  1.587711e+09   \n",
       "859        0.0  1.590340e+09   \n",
       "\n",
       "                                                  body    year  month   day  \\\n",
       "0                                                 None  2020.0    5.0   8.0   \n",
       "1    My friend works from 8:30 to 17:30. Meanwhile ...  2020.0    5.0  29.0   \n",
       "2                                                 None  2020.0    4.0  13.0   \n",
       "3                                                 None  2020.0    6.0   6.0   \n",
       "4    My ex-boyfriend (2 year relationship) is from ...  2020.0    6.0   4.0   \n",
       "..                                                 ...     ...    ...   ...   \n",
       "855  I'm located in USA and have a LLC. The manufac...  2020.0    5.0   7.0   \n",
       "856  I stay in India. So today, I matched with this...  2020.0    4.0  22.0   \n",
       "857  Some have seen this posted. I say it gets wors...  2020.0    4.0  20.0   \n",
       "858  Hi everyone. A stupid post alert. \\n\\nApparent...  2020.0    4.0  24.0   \n",
       "859  Hello! Firstly I'd like to apologize if this i...  2020.0    5.0  24.0   \n",
       "\n",
       "         time violence_type   age  \n",
       "0    20:57:12         abuse  None  \n",
       "1    18:47:13         abuse    30  \n",
       "2    06:25:34         abuse  None  \n",
       "3    06:24:05         abuse  None  \n",
       "4    08:14:50         abuse  None  \n",
       "..        ...           ...   ...  \n",
       "855  10:30:01           NaN  None  \n",
       "856  12:12:53           NaN    18  \n",
       "857  10:10:28           NaN  None  \n",
       "858  12:26:59           NaN    16  \n",
       "859  22:56:59           NaN    21  \n",
       "\n",
       "[860 rows x 15 columns]"
      ]
     },
     "execution_count": 52,
     "metadata": {},
     "output_type": "execute_result"
    }
   ],
   "source": [
    "df"
   ]
  },
  {
   "cell_type": "code",
   "execution_count": 53,
   "metadata": {
    "collapsed": true,
    "jupyter": {
     "outputs_hidden": true
    }
   },
   "outputs": [
    {
     "ename": "KeyError",
     "evalue": "\"['Unnamed: 14'] not found in axis\"",
     "output_type": "error",
     "traceback": [
      "\u001b[1;31m---------------------------------------------------------------------------\u001b[0m",
      "\u001b[1;31mKeyError\u001b[0m                                  Traceback (most recent call last)",
      "\u001b[1;32m<ipython-input-53-0ed765b12dbd>\u001b[0m in \u001b[0;36m<module>\u001b[1;34m\u001b[0m\n\u001b[1;32m----> 1\u001b[1;33m \u001b[0mdf\u001b[0m\u001b[1;33m.\u001b[0m\u001b[0mdrop\u001b[0m\u001b[1;33m(\u001b[0m\u001b[1;33m[\u001b[0m\u001b[1;34m'Unnamed: 0'\u001b[0m\u001b[1;33m,\u001b[0m\u001b[1;34m'index'\u001b[0m\u001b[1;33m,\u001b[0m\u001b[1;34m'Unnamed: 14'\u001b[0m\u001b[1;33m]\u001b[0m\u001b[1;33m,\u001b[0m\u001b[0maxis\u001b[0m\u001b[1;33m=\u001b[0m\u001b[1;36m1\u001b[0m\u001b[1;33m,\u001b[0m\u001b[0minplace\u001b[0m\u001b[1;33m=\u001b[0m\u001b[1;32mTrue\u001b[0m\u001b[1;33m)\u001b[0m\u001b[1;33m\u001b[0m\u001b[1;33m\u001b[0m\u001b[0m\n\u001b[0m",
      "\u001b[1;32mc:\\users\\sunil\\appdata\\local\\programs\\python\\python36\\lib\\site-packages\\pandas\\core\\frame.py\u001b[0m in \u001b[0;36mdrop\u001b[1;34m(self, labels, axis, index, columns, level, inplace, errors)\u001b[0m\n\u001b[0;32m   3995\u001b[0m             \u001b[0mlevel\u001b[0m\u001b[1;33m=\u001b[0m\u001b[0mlevel\u001b[0m\u001b[1;33m,\u001b[0m\u001b[1;33m\u001b[0m\u001b[1;33m\u001b[0m\u001b[0m\n\u001b[0;32m   3996\u001b[0m             \u001b[0minplace\u001b[0m\u001b[1;33m=\u001b[0m\u001b[0minplace\u001b[0m\u001b[1;33m,\u001b[0m\u001b[1;33m\u001b[0m\u001b[1;33m\u001b[0m\u001b[0m\n\u001b[1;32m-> 3997\u001b[1;33m             \u001b[0merrors\u001b[0m\u001b[1;33m=\u001b[0m\u001b[0merrors\u001b[0m\u001b[1;33m,\u001b[0m\u001b[1;33m\u001b[0m\u001b[1;33m\u001b[0m\u001b[0m\n\u001b[0m\u001b[0;32m   3998\u001b[0m         )\n\u001b[0;32m   3999\u001b[0m \u001b[1;33m\u001b[0m\u001b[0m\n",
      "\u001b[1;32mc:\\users\\sunil\\appdata\\local\\programs\\python\\python36\\lib\\site-packages\\pandas\\core\\generic.py\u001b[0m in \u001b[0;36mdrop\u001b[1;34m(self, labels, axis, index, columns, level, inplace, errors)\u001b[0m\n\u001b[0;32m   3934\u001b[0m         \u001b[1;32mfor\u001b[0m \u001b[0maxis\u001b[0m\u001b[1;33m,\u001b[0m \u001b[0mlabels\u001b[0m \u001b[1;32min\u001b[0m \u001b[0maxes\u001b[0m\u001b[1;33m.\u001b[0m\u001b[0mitems\u001b[0m\u001b[1;33m(\u001b[0m\u001b[1;33m)\u001b[0m\u001b[1;33m:\u001b[0m\u001b[1;33m\u001b[0m\u001b[1;33m\u001b[0m\u001b[0m\n\u001b[0;32m   3935\u001b[0m             \u001b[1;32mif\u001b[0m \u001b[0mlabels\u001b[0m \u001b[1;32mis\u001b[0m \u001b[1;32mnot\u001b[0m \u001b[1;32mNone\u001b[0m\u001b[1;33m:\u001b[0m\u001b[1;33m\u001b[0m\u001b[1;33m\u001b[0m\u001b[0m\n\u001b[1;32m-> 3936\u001b[1;33m                 \u001b[0mobj\u001b[0m \u001b[1;33m=\u001b[0m \u001b[0mobj\u001b[0m\u001b[1;33m.\u001b[0m\u001b[0m_drop_axis\u001b[0m\u001b[1;33m(\u001b[0m\u001b[0mlabels\u001b[0m\u001b[1;33m,\u001b[0m \u001b[0maxis\u001b[0m\u001b[1;33m,\u001b[0m \u001b[0mlevel\u001b[0m\u001b[1;33m=\u001b[0m\u001b[0mlevel\u001b[0m\u001b[1;33m,\u001b[0m \u001b[0merrors\u001b[0m\u001b[1;33m=\u001b[0m\u001b[0merrors\u001b[0m\u001b[1;33m)\u001b[0m\u001b[1;33m\u001b[0m\u001b[1;33m\u001b[0m\u001b[0m\n\u001b[0m\u001b[0;32m   3937\u001b[0m \u001b[1;33m\u001b[0m\u001b[0m\n\u001b[0;32m   3938\u001b[0m         \u001b[1;32mif\u001b[0m \u001b[0minplace\u001b[0m\u001b[1;33m:\u001b[0m\u001b[1;33m\u001b[0m\u001b[1;33m\u001b[0m\u001b[0m\n",
      "\u001b[1;32mc:\\users\\sunil\\appdata\\local\\programs\\python\\python36\\lib\\site-packages\\pandas\\core\\generic.py\u001b[0m in \u001b[0;36m_drop_axis\u001b[1;34m(self, labels, axis, level, errors)\u001b[0m\n\u001b[0;32m   3968\u001b[0m                 \u001b[0mnew_axis\u001b[0m \u001b[1;33m=\u001b[0m \u001b[0maxis\u001b[0m\u001b[1;33m.\u001b[0m\u001b[0mdrop\u001b[0m\u001b[1;33m(\u001b[0m\u001b[0mlabels\u001b[0m\u001b[1;33m,\u001b[0m \u001b[0mlevel\u001b[0m\u001b[1;33m=\u001b[0m\u001b[0mlevel\u001b[0m\u001b[1;33m,\u001b[0m \u001b[0merrors\u001b[0m\u001b[1;33m=\u001b[0m\u001b[0merrors\u001b[0m\u001b[1;33m)\u001b[0m\u001b[1;33m\u001b[0m\u001b[1;33m\u001b[0m\u001b[0m\n\u001b[0;32m   3969\u001b[0m             \u001b[1;32melse\u001b[0m\u001b[1;33m:\u001b[0m\u001b[1;33m\u001b[0m\u001b[1;33m\u001b[0m\u001b[0m\n\u001b[1;32m-> 3970\u001b[1;33m                 \u001b[0mnew_axis\u001b[0m \u001b[1;33m=\u001b[0m \u001b[0maxis\u001b[0m\u001b[1;33m.\u001b[0m\u001b[0mdrop\u001b[0m\u001b[1;33m(\u001b[0m\u001b[0mlabels\u001b[0m\u001b[1;33m,\u001b[0m \u001b[0merrors\u001b[0m\u001b[1;33m=\u001b[0m\u001b[0merrors\u001b[0m\u001b[1;33m)\u001b[0m\u001b[1;33m\u001b[0m\u001b[1;33m\u001b[0m\u001b[0m\n\u001b[0m\u001b[0;32m   3971\u001b[0m             \u001b[0mresult\u001b[0m \u001b[1;33m=\u001b[0m \u001b[0mself\u001b[0m\u001b[1;33m.\u001b[0m\u001b[0mreindex\u001b[0m\u001b[1;33m(\u001b[0m\u001b[1;33m**\u001b[0m\u001b[1;33m{\u001b[0m\u001b[0maxis_name\u001b[0m\u001b[1;33m:\u001b[0m \u001b[0mnew_axis\u001b[0m\u001b[1;33m}\u001b[0m\u001b[1;33m)\u001b[0m\u001b[1;33m\u001b[0m\u001b[1;33m\u001b[0m\u001b[0m\n\u001b[0;32m   3972\u001b[0m \u001b[1;33m\u001b[0m\u001b[0m\n",
      "\u001b[1;32mc:\\users\\sunil\\appdata\\local\\programs\\python\\python36\\lib\\site-packages\\pandas\\core\\indexes\\base.py\u001b[0m in \u001b[0;36mdrop\u001b[1;34m(self, labels, errors)\u001b[0m\n\u001b[0;32m   5015\u001b[0m         \u001b[1;32mif\u001b[0m \u001b[0mmask\u001b[0m\u001b[1;33m.\u001b[0m\u001b[0many\u001b[0m\u001b[1;33m(\u001b[0m\u001b[1;33m)\u001b[0m\u001b[1;33m:\u001b[0m\u001b[1;33m\u001b[0m\u001b[1;33m\u001b[0m\u001b[0m\n\u001b[0;32m   5016\u001b[0m             \u001b[1;32mif\u001b[0m \u001b[0merrors\u001b[0m \u001b[1;33m!=\u001b[0m \u001b[1;34m\"ignore\"\u001b[0m\u001b[1;33m:\u001b[0m\u001b[1;33m\u001b[0m\u001b[1;33m\u001b[0m\u001b[0m\n\u001b[1;32m-> 5017\u001b[1;33m                 \u001b[1;32mraise\u001b[0m \u001b[0mKeyError\u001b[0m\u001b[1;33m(\u001b[0m\u001b[1;34mf\"{labels[mask]} not found in axis\"\u001b[0m\u001b[1;33m)\u001b[0m\u001b[1;33m\u001b[0m\u001b[1;33m\u001b[0m\u001b[0m\n\u001b[0m\u001b[0;32m   5018\u001b[0m             \u001b[0mindexer\u001b[0m \u001b[1;33m=\u001b[0m \u001b[0mindexer\u001b[0m\u001b[1;33m[\u001b[0m\u001b[1;33m~\u001b[0m\u001b[0mmask\u001b[0m\u001b[1;33m]\u001b[0m\u001b[1;33m\u001b[0m\u001b[1;33m\u001b[0m\u001b[0m\n\u001b[0;32m   5019\u001b[0m         \u001b[1;32mreturn\u001b[0m \u001b[0mself\u001b[0m\u001b[1;33m.\u001b[0m\u001b[0mdelete\u001b[0m\u001b[1;33m(\u001b[0m\u001b[0mindexer\u001b[0m\u001b[1;33m)\u001b[0m\u001b[1;33m\u001b[0m\u001b[1;33m\u001b[0m\u001b[0m\n",
      "\u001b[1;31mKeyError\u001b[0m: \"['Unnamed: 14'] not found in axis\""
     ]
    }
   ],
   "source": [
    "df.drop(['Unnamed: 0','index','Unnamed: 14'],axis=1,inplace=True)"
   ]
  },
  {
   "cell_type": "code",
   "execution_count": 54,
   "metadata": {},
   "outputs": [
    {
     "data": {
      "text/html": [
       "<div>\n",
       "<style scoped>\n",
       "    .dataframe tbody tr th:only-of-type {\n",
       "        vertical-align: middle;\n",
       "    }\n",
       "\n",
       "    .dataframe tbody tr th {\n",
       "        vertical-align: top;\n",
       "    }\n",
       "\n",
       "    .dataframe thead th {\n",
       "        text-align: right;\n",
       "    }\n",
       "</style>\n",
       "<table border=\"1\" class=\"dataframe\">\n",
       "  <thead>\n",
       "    <tr style=\"text-align: right;\">\n",
       "      <th></th>\n",
       "      <th>Unnamed: 0</th>\n",
       "      <th>index</th>\n",
       "      <th>title</th>\n",
       "      <th>score</th>\n",
       "      <th>id</th>\n",
       "      <th>url</th>\n",
       "      <th>comms_num</th>\n",
       "      <th>created</th>\n",
       "      <th>body</th>\n",
       "      <th>year</th>\n",
       "      <th>month</th>\n",
       "      <th>day</th>\n",
       "      <th>time</th>\n",
       "      <th>violence_type</th>\n",
       "      <th>age</th>\n",
       "    </tr>\n",
       "  </thead>\n",
       "  <tbody>\n",
       "    <tr>\n",
       "      <th>0</th>\n",
       "      <td>0</td>\n",
       "      <td>0</td>\n",
       "      <td>There is NO ROOM for abuse.Period. Digital Pai...</td>\n",
       "      <td>3136.0</td>\n",
       "      <td>gfoc94</td>\n",
       "      <td>https://i.redd.it/xfvcce15rhx41.jpg</td>\n",
       "      <td>328.0</td>\n",
       "      <td>1.588951e+09</td>\n",
       "      <td>None</td>\n",
       "      <td>2020.0</td>\n",
       "      <td>5.0</td>\n",
       "      <td>8.0</td>\n",
       "      <td>20:57:12</td>\n",
       "      <td>abuse</td>\n",
       "      <td>None</td>\n",
       "    </tr>\n",
       "    <tr>\n",
       "      <th>1</th>\n",
       "      <td>1</td>\n",
       "      <td>1</td>\n",
       "      <td>Capitalism and Private firms during covid. Wor...</td>\n",
       "      <td>281.0</td>\n",
       "      <td>gsmest</td>\n",
       "      <td>https://www.reddit.com/r/india/comments/gsmest...</td>\n",
       "      <td>86.0</td>\n",
       "      <td>1.590757e+09</td>\n",
       "      <td>My friend works from 8:30 to 17:30. Meanwhile ...</td>\n",
       "      <td>2020.0</td>\n",
       "      <td>5.0</td>\n",
       "      <td>29.0</td>\n",
       "      <td>18:47:13</td>\n",
       "      <td>abuse</td>\n",
       "      <td>30</td>\n",
       "    </tr>\n",
       "    <tr>\n",
       "      <th>2</th>\n",
       "      <td>2</td>\n",
       "      <td>2</td>\n",
       "      <td>Behind closed doors, the biggest viruses are m...</td>\n",
       "      <td>1129.0</td>\n",
       "      <td>fzzzji</td>\n",
       "      <td>https://i.redd.it/dc1v110v0fs41.jpg</td>\n",
       "      <td>172.0</td>\n",
       "      <td>1.586738e+09</td>\n",
       "      <td>None</td>\n",
       "      <td>2020.0</td>\n",
       "      <td>4.0</td>\n",
       "      <td>13.0</td>\n",
       "      <td>06:25:34</td>\n",
       "      <td>abuse</td>\n",
       "      <td>None</td>\n",
       "    </tr>\n",
       "    <tr>\n",
       "      <th>3</th>\n",
       "      <td>3</td>\n",
       "      <td>3</td>\n",
       "      <td>Bait for one, Death for another. But is it jus...</td>\n",
       "      <td>56.0</td>\n",
       "      <td>gx7zv5</td>\n",
       "      <td>https://i.redd.it/dv07s7qsd4351.jpg</td>\n",
       "      <td>15.0</td>\n",
       "      <td>1.591404e+09</td>\n",
       "      <td>None</td>\n",
       "      <td>2020.0</td>\n",
       "      <td>6.0</td>\n",
       "      <td>6.0</td>\n",
       "      <td>06:24:05</td>\n",
       "      <td>abuse</td>\n",
       "      <td>None</td>\n",
       "    </tr>\n",
       "    <tr>\n",
       "      <th>4</th>\n",
       "      <td>4</td>\n",
       "      <td>4</td>\n",
       "      <td>Lawyers of India, if I try to file a domestic ...</td>\n",
       "      <td>45.0</td>\n",
       "      <td>gvzj3d</td>\n",
       "      <td>https://www.reddit.com/r/india/comments/gvzj3d...</td>\n",
       "      <td>16.0</td>\n",
       "      <td>1.591238e+09</td>\n",
       "      <td>My ex-boyfriend (2 year relationship) is from ...</td>\n",
       "      <td>2020.0</td>\n",
       "      <td>6.0</td>\n",
       "      <td>4.0</td>\n",
       "      <td>08:14:50</td>\n",
       "      <td>abuse</td>\n",
       "      <td>None</td>\n",
       "    </tr>\n",
       "    <tr>\n",
       "      <th>...</th>\n",
       "      <td>...</td>\n",
       "      <td>...</td>\n",
       "      <td>...</td>\n",
       "      <td>...</td>\n",
       "      <td>...</td>\n",
       "      <td>...</td>\n",
       "      <td>...</td>\n",
       "      <td>...</td>\n",
       "      <td>...</td>\n",
       "      <td>...</td>\n",
       "      <td>...</td>\n",
       "      <td>...</td>\n",
       "      <td>...</td>\n",
       "      <td>...</td>\n",
       "      <td>...</td>\n",
       "    </tr>\n",
       "    <tr>\n",
       "      <th>855</th>\n",
       "      <td>134</td>\n",
       "      <td>231</td>\n",
       "      <td>Is it possible to amend the governing law loca...</td>\n",
       "      <td>2.0</td>\n",
       "      <td>ges6gh</td>\n",
       "      <td>https://www.reddit.com/r/legaladvice/comments/...</td>\n",
       "      <td>3.0</td>\n",
       "      <td>1.588827e+09</td>\n",
       "      <td>I'm located in USA and have a LLC. The manufac...</td>\n",
       "      <td>2020.0</td>\n",
       "      <td>5.0</td>\n",
       "      <td>7.0</td>\n",
       "      <td>10:30:01</td>\n",
       "      <td>NaN</td>\n",
       "      <td>None</td>\n",
       "    </tr>\n",
       "    <tr>\n",
       "      <th>856</th>\n",
       "      <td>135</td>\n",
       "      <td>232</td>\n",
       "      <td>Instagram Sex Service</td>\n",
       "      <td>0.0</td>\n",
       "      <td>g5p6ot</td>\n",
       "      <td>https://www.reddit.com/r/legaladvice/comments/...</td>\n",
       "      <td>11.0</td>\n",
       "      <td>1.587537e+09</td>\n",
       "      <td>I stay in India. So today, I matched with this...</td>\n",
       "      <td>2020.0</td>\n",
       "      <td>4.0</td>\n",
       "      <td>22.0</td>\n",
       "      <td>12:12:53</td>\n",
       "      <td>NaN</td>\n",
       "      <td>18</td>\n",
       "    </tr>\n",
       "    <tr>\n",
       "      <th>857</th>\n",
       "      <td>136</td>\n",
       "      <td>234</td>\n",
       "      <td>GET TWEETIG AND EMAILING!! It gets worse - men...</td>\n",
       "      <td>9.0</td>\n",
       "      <td>g4eqtv</td>\n",
       "      <td>https://www.reddit.com/r/MensRights/comments/g...</td>\n",
       "      <td>4.0</td>\n",
       "      <td>1.587357e+09</td>\n",
       "      <td>Some have seen this posted. I say it gets wors...</td>\n",
       "      <td>2020.0</td>\n",
       "      <td>4.0</td>\n",
       "      <td>20.0</td>\n",
       "      <td>10:10:28</td>\n",
       "      <td>NaN</td>\n",
       "      <td>None</td>\n",
       "    </tr>\n",
       "    <tr>\n",
       "      <th>858</th>\n",
       "      <td>137</td>\n",
       "      <td>235</td>\n",
       "      <td>Paid extra for 3 years for Netflix.</td>\n",
       "      <td>0.0</td>\n",
       "      <td>g6wnlm</td>\n",
       "      <td>https://www.reddit.com/r/legaladvice/comments/...</td>\n",
       "      <td>9.0</td>\n",
       "      <td>1.587711e+09</td>\n",
       "      <td>Hi everyone. A stupid post alert. \\n\\nApparent...</td>\n",
       "      <td>2020.0</td>\n",
       "      <td>4.0</td>\n",
       "      <td>24.0</td>\n",
       "      <td>12:26:59</td>\n",
       "      <td>NaN</td>\n",
       "      <td>16</td>\n",
       "    </tr>\n",
       "    <tr>\n",
       "      <th>859</th>\n",
       "      <td>138</td>\n",
       "      <td>240</td>\n",
       "      <td>My father hasn't been paying maintenance fees....</td>\n",
       "      <td>0.0</td>\n",
       "      <td>gpmmie</td>\n",
       "      <td>https://www.reddit.com/r/legaladvice/comments/...</td>\n",
       "      <td>0.0</td>\n",
       "      <td>1.590340e+09</td>\n",
       "      <td>Hello! Firstly I'd like to apologize if this i...</td>\n",
       "      <td>2020.0</td>\n",
       "      <td>5.0</td>\n",
       "      <td>24.0</td>\n",
       "      <td>22:56:59</td>\n",
       "      <td>NaN</td>\n",
       "      <td>21</td>\n",
       "    </tr>\n",
       "  </tbody>\n",
       "</table>\n",
       "<p>860 rows × 15 columns</p>\n",
       "</div>"
      ],
      "text/plain": [
       "     Unnamed: 0  index                                              title  \\\n",
       "0             0      0  There is NO ROOM for abuse.Period. Digital Pai...   \n",
       "1             1      1  Capitalism and Private firms during covid. Wor...   \n",
       "2             2      2  Behind closed doors, the biggest viruses are m...   \n",
       "3             3      3  Bait for one, Death for another. But is it jus...   \n",
       "4             4      4  Lawyers of India, if I try to file a domestic ...   \n",
       "..          ...    ...                                                ...   \n",
       "855         134    231  Is it possible to amend the governing law loca...   \n",
       "856         135    232                              Instagram Sex Service   \n",
       "857         136    234  GET TWEETIG AND EMAILING!! It gets worse - men...   \n",
       "858         137    235                Paid extra for 3 years for Netflix.   \n",
       "859         138    240  My father hasn't been paying maintenance fees....   \n",
       "\n",
       "      score      id                                                url  \\\n",
       "0    3136.0  gfoc94                https://i.redd.it/xfvcce15rhx41.jpg   \n",
       "1     281.0  gsmest  https://www.reddit.com/r/india/comments/gsmest...   \n",
       "2    1129.0  fzzzji                https://i.redd.it/dc1v110v0fs41.jpg   \n",
       "3      56.0  gx7zv5                https://i.redd.it/dv07s7qsd4351.jpg   \n",
       "4      45.0  gvzj3d  https://www.reddit.com/r/india/comments/gvzj3d...   \n",
       "..      ...     ...                                                ...   \n",
       "855     2.0  ges6gh  https://www.reddit.com/r/legaladvice/comments/...   \n",
       "856     0.0  g5p6ot  https://www.reddit.com/r/legaladvice/comments/...   \n",
       "857     9.0  g4eqtv  https://www.reddit.com/r/MensRights/comments/g...   \n",
       "858     0.0  g6wnlm  https://www.reddit.com/r/legaladvice/comments/...   \n",
       "859     0.0  gpmmie  https://www.reddit.com/r/legaladvice/comments/...   \n",
       "\n",
       "     comms_num       created  \\\n",
       "0        328.0  1.588951e+09   \n",
       "1         86.0  1.590757e+09   \n",
       "2        172.0  1.586738e+09   \n",
       "3         15.0  1.591404e+09   \n",
       "4         16.0  1.591238e+09   \n",
       "..         ...           ...   \n",
       "855        3.0  1.588827e+09   \n",
       "856       11.0  1.587537e+09   \n",
       "857        4.0  1.587357e+09   \n",
       "858        9.0  1.587711e+09   \n",
       "859        0.0  1.590340e+09   \n",
       "\n",
       "                                                  body    year  month   day  \\\n",
       "0                                                 None  2020.0    5.0   8.0   \n",
       "1    My friend works from 8:30 to 17:30. Meanwhile ...  2020.0    5.0  29.0   \n",
       "2                                                 None  2020.0    4.0  13.0   \n",
       "3                                                 None  2020.0    6.0   6.0   \n",
       "4    My ex-boyfriend (2 year relationship) is from ...  2020.0    6.0   4.0   \n",
       "..                                                 ...     ...    ...   ...   \n",
       "855  I'm located in USA and have a LLC. The manufac...  2020.0    5.0   7.0   \n",
       "856  I stay in India. So today, I matched with this...  2020.0    4.0  22.0   \n",
       "857  Some have seen this posted. I say it gets wors...  2020.0    4.0  20.0   \n",
       "858  Hi everyone. A stupid post alert. \\n\\nApparent...  2020.0    4.0  24.0   \n",
       "859  Hello! Firstly I'd like to apologize if this i...  2020.0    5.0  24.0   \n",
       "\n",
       "         time violence_type   age  \n",
       "0    20:57:12         abuse  None  \n",
       "1    18:47:13         abuse    30  \n",
       "2    06:25:34         abuse  None  \n",
       "3    06:24:05         abuse  None  \n",
       "4    08:14:50         abuse  None  \n",
       "..        ...           ...   ...  \n",
       "855  10:30:01           NaN  None  \n",
       "856  12:12:53           NaN    18  \n",
       "857  10:10:28           NaN  None  \n",
       "858  12:26:59           NaN    16  \n",
       "859  22:56:59           NaN    21  \n",
       "\n",
       "[860 rows x 15 columns]"
      ]
     },
     "execution_count": 54,
     "metadata": {},
     "output_type": "execute_result"
    }
   ],
   "source": [
    "df"
   ]
  },
  {
   "cell_type": "code",
   "execution_count": 55,
   "metadata": {},
   "outputs": [],
   "source": [
    "df.to_csv('new_reddit_domestic_violence.csv')"
   ]
  },
  {
   "cell_type": "code",
   "execution_count": null,
   "metadata": {},
   "outputs": [],
   "source": []
  }
 ],
 "metadata": {
  "kernelspec": {
   "display_name": "Python 3",
   "language": "python",
   "name": "python3"
  },
  "language_info": {
   "codemirror_mode": {
    "name": "ipython",
    "version": 3
   },
   "file_extension": ".py",
   "mimetype": "text/x-python",
   "name": "python",
   "nbconvert_exporter": "python",
   "pygments_lexer": "ipython3",
   "version": "3.8.5"
  }
 },
 "nbformat": 4,
 "nbformat_minor": 4
}
